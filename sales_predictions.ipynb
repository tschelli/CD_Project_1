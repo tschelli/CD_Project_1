{
  "nbformat": 4,
  "nbformat_minor": 0,
  "metadata": {
    "colab": {
      "provenance": [],
      "mount_file_id": "https://github.com/tschelli/food_sales_predictions/blob/main/sales_predictions.ipynb",
      "authorship_tag": "ABX9TyPz0L5DhWPuO2jVMnTkoHu+",
      "include_colab_link": true
    },
    "kernelspec": {
      "name": "python3",
      "display_name": "Python 3"
    },
    "language_info": {
      "name": "python"
    }
  },
  "cells": [
    {
      "cell_type": "markdown",
      "metadata": {
        "id": "view-in-github",
        "colab_type": "text"
      },
      "source": [
        "<a href=\"https://colab.research.google.com/github/tschelli/food_sales_predictions/blob/main/sales_predictions.ipynb\" target=\"_parent\"><img src=\"https://colab.research.google.com/assets/colab-badge.svg\" alt=\"Open In Colab\"/></a>"
      ]
    },
    {
      "cell_type": "markdown",
      "source": [
        "# Food Sales Predictions Project\n",
        "Coding Dojo Data Science Project 1\n",
        "\n",
        "- Name: Tyler Schelling\n",
        "- Start Date: 9/12/2022"
      ],
      "metadata": {
        "id": "me161bNjadXl"
      }
    },
    {
      "cell_type": "markdown",
      "source": [
        "---"
      ],
      "metadata": {
        "id": "p6YmFOWRaFDl"
      }
    },
    {
      "cell_type": "markdown",
      "source": [
        "**Data Dictionary Reference:**\n",
        "\n",
        "Variable Name\t   |  Description\n",
        "-------------------|------------------\n",
        "Item_Identifier\t   |  Unique product ID\n",
        "Item_Weight\t       |  Weight of product\n",
        "Item_Fat_Content\t| Whether the product is low fat or regular\n",
        "Item_Visibility\t|The percentage of total display area of all products in a store allocated to the particular product\n",
        "Item_Type\t|The category to which the product belongs\n",
        "Item_MRP\t|Maximum Retail Price (list price) of the product\n",
        "Outlet_Identifier\t|Unique store ID\n",
        "Outlet_Establishment_Year\t|The year in which store was established\n",
        "Outlet_Size|\tThe size of the store in terms of ground area covered\n",
        "Outlet_Location_Type\t|The type of area in which the store is located\n",
        "Outlet_Type\t|Whether the outlet is a grocery store or some sort of supermarket\n",
        "Item_Outlet_Sales\t|Sales of the product in the particular store. This is the target variable to be predicted."
      ],
      "metadata": {
        "id": "jQj0fc0_aGJp"
      }
    },
    {
      "cell_type": "markdown",
      "source": [
        "## Mount Drive | Import Libraries | Load Data\n",
        "- Section last updated: 9/28/2022"
      ],
      "metadata": {
        "id": "wJEODNRWavEg"
      }
    },
    {
      "cell_type": "markdown",
      "source": [
        "### Mounting the Google drive"
      ],
      "metadata": {
        "id": "434X9ptxbDTB"
      }
    },
    {
      "cell_type": "code",
      "source": [
        "#Dataset is stored via Google drive. Mount the drive.\n",
        "from google.colab import drive\n",
        "drive.mount('/content/drive')"
      ],
      "metadata": {
        "id": "MkQLLDRMaTrn",
        "outputId": "b12df753-f5e5-4c3a-9d65-3fd5c7a0a191",
        "colab": {
          "base_uri": "https://localhost:8080/"
        }
      },
      "execution_count": 1,
      "outputs": [
        {
          "output_type": "stream",
          "name": "stdout",
          "text": [
            "Drive already mounted at /content/drive; to attempt to forcibly remount, call drive.mount(\"/content/drive\", force_remount=True).\n"
          ]
        }
      ]
    },
    {
      "cell_type": "markdown",
      "source": [
        "### Importing Libraries"
      ],
      "metadata": {
        "id": "pvYJDgiAbL8_"
      }
    },
    {
      "cell_type": "code",
      "source": [
        "import pandas as pd\n",
        "import numpy as np\n",
        "\n",
        "import missingno as msno\n",
        "\n",
        "import matplotlib.pyplot as plt\n",
        "import seaborn as sns\n",
        "\n",
        "import math"
      ],
      "metadata": {
        "id": "OnmWhETCaWZZ"
      },
      "execution_count": 2,
      "outputs": []
    },
    {
      "cell_type": "markdown",
      "source": [
        "### Load the data\n",
        " *Note: [Original Data Source](https://datahack.analyticsvidhya.com/contest/practice-problem-big-mart-sales-iii/)*"
      ],
      "metadata": {
        "id": "VqAelgYdb09M"
      }
    },
    {
      "cell_type": "code",
      "execution_count": 3,
      "metadata": {
        "id": "HIM2Hfn7WOGs"
      },
      "outputs": [],
      "source": [
        "#Load the data and examine the dataset we will be using\n",
        "filename = '/content/drive/MyDrive/02. Life/Coding Dojo/00 Datasets/sales_predictions.csv'\n",
        "df = pd.read_csv(filename)"
      ]
    },
    {
      "cell_type": "markdown",
      "source": [
        "## Exploring and Cleaning the Data\n",
        "- Section last updated: 9/29/2022"
      ],
      "metadata": {
        "id": "adtNwRB7bXh0"
      }
    },
    {
      "cell_type": "markdown",
      "source": [
        "### Display First 5 Rows "
      ],
      "metadata": {
        "id": "fzR4LqYQeAYY"
      }
    },
    {
      "cell_type": "code",
      "source": [
        "#The .head() method will return the first 5 rows of our dataset.\n",
        "#We will use .head() to gain a quick familiarity of our dataset.\n",
        "df.head()"
      ],
      "metadata": {
        "id": "2IZ7x2OUd_h4",
        "outputId": "6c009e9c-0e34-4bae-f8b0-dfc2cc64457f",
        "colab": {
          "base_uri": "https://localhost:8080/",
          "height": 206
        }
      },
      "execution_count": 4,
      "outputs": [
        {
          "output_type": "execute_result",
          "data": {
            "text/plain": [
              "  Item_Identifier  Item_Weight Item_Fat_Content  Item_Visibility  \\\n",
              "0           FDA15         9.30          Low Fat         0.016047   \n",
              "1           DRC01         5.92          Regular         0.019278   \n",
              "2           FDN15        17.50          Low Fat         0.016760   \n",
              "3           FDX07        19.20          Regular         0.000000   \n",
              "4           NCD19         8.93          Low Fat         0.000000   \n",
              "\n",
              "               Item_Type  Item_MRP Outlet_Identifier  \\\n",
              "0                  Dairy  249.8092            OUT049   \n",
              "1            Soft Drinks   48.2692            OUT018   \n",
              "2                   Meat  141.6180            OUT049   \n",
              "3  Fruits and Vegetables  182.0950            OUT010   \n",
              "4              Household   53.8614            OUT013   \n",
              "\n",
              "   Outlet_Establishment_Year Outlet_Size Outlet_Location_Type  \\\n",
              "0                       1999      Medium               Tier 1   \n",
              "1                       2009      Medium               Tier 3   \n",
              "2                       1999      Medium               Tier 1   \n",
              "3                       1998         NaN               Tier 3   \n",
              "4                       1987        High               Tier 3   \n",
              "\n",
              "         Outlet_Type  Item_Outlet_Sales  \n",
              "0  Supermarket Type1          3735.1380  \n",
              "1  Supermarket Type2           443.4228  \n",
              "2  Supermarket Type1          2097.2700  \n",
              "3      Grocery Store           732.3800  \n",
              "4  Supermarket Type1           994.7052  "
            ],
            "text/html": [
              "\n",
              "  <div id=\"df-677e8a8d-8b98-4ac6-810b-d98b2b8bd1e4\">\n",
              "    <div class=\"colab-df-container\">\n",
              "      <div>\n",
              "<style scoped>\n",
              "    .dataframe tbody tr th:only-of-type {\n",
              "        vertical-align: middle;\n",
              "    }\n",
              "\n",
              "    .dataframe tbody tr th {\n",
              "        vertical-align: top;\n",
              "    }\n",
              "\n",
              "    .dataframe thead th {\n",
              "        text-align: right;\n",
              "    }\n",
              "</style>\n",
              "<table border=\"1\" class=\"dataframe\">\n",
              "  <thead>\n",
              "    <tr style=\"text-align: right;\">\n",
              "      <th></th>\n",
              "      <th>Item_Identifier</th>\n",
              "      <th>Item_Weight</th>\n",
              "      <th>Item_Fat_Content</th>\n",
              "      <th>Item_Visibility</th>\n",
              "      <th>Item_Type</th>\n",
              "      <th>Item_MRP</th>\n",
              "      <th>Outlet_Identifier</th>\n",
              "      <th>Outlet_Establishment_Year</th>\n",
              "      <th>Outlet_Size</th>\n",
              "      <th>Outlet_Location_Type</th>\n",
              "      <th>Outlet_Type</th>\n",
              "      <th>Item_Outlet_Sales</th>\n",
              "    </tr>\n",
              "  </thead>\n",
              "  <tbody>\n",
              "    <tr>\n",
              "      <th>0</th>\n",
              "      <td>FDA15</td>\n",
              "      <td>9.30</td>\n",
              "      <td>Low Fat</td>\n",
              "      <td>0.016047</td>\n",
              "      <td>Dairy</td>\n",
              "      <td>249.8092</td>\n",
              "      <td>OUT049</td>\n",
              "      <td>1999</td>\n",
              "      <td>Medium</td>\n",
              "      <td>Tier 1</td>\n",
              "      <td>Supermarket Type1</td>\n",
              "      <td>3735.1380</td>\n",
              "    </tr>\n",
              "    <tr>\n",
              "      <th>1</th>\n",
              "      <td>DRC01</td>\n",
              "      <td>5.92</td>\n",
              "      <td>Regular</td>\n",
              "      <td>0.019278</td>\n",
              "      <td>Soft Drinks</td>\n",
              "      <td>48.2692</td>\n",
              "      <td>OUT018</td>\n",
              "      <td>2009</td>\n",
              "      <td>Medium</td>\n",
              "      <td>Tier 3</td>\n",
              "      <td>Supermarket Type2</td>\n",
              "      <td>443.4228</td>\n",
              "    </tr>\n",
              "    <tr>\n",
              "      <th>2</th>\n",
              "      <td>FDN15</td>\n",
              "      <td>17.50</td>\n",
              "      <td>Low Fat</td>\n",
              "      <td>0.016760</td>\n",
              "      <td>Meat</td>\n",
              "      <td>141.6180</td>\n",
              "      <td>OUT049</td>\n",
              "      <td>1999</td>\n",
              "      <td>Medium</td>\n",
              "      <td>Tier 1</td>\n",
              "      <td>Supermarket Type1</td>\n",
              "      <td>2097.2700</td>\n",
              "    </tr>\n",
              "    <tr>\n",
              "      <th>3</th>\n",
              "      <td>FDX07</td>\n",
              "      <td>19.20</td>\n",
              "      <td>Regular</td>\n",
              "      <td>0.000000</td>\n",
              "      <td>Fruits and Vegetables</td>\n",
              "      <td>182.0950</td>\n",
              "      <td>OUT010</td>\n",
              "      <td>1998</td>\n",
              "      <td>NaN</td>\n",
              "      <td>Tier 3</td>\n",
              "      <td>Grocery Store</td>\n",
              "      <td>732.3800</td>\n",
              "    </tr>\n",
              "    <tr>\n",
              "      <th>4</th>\n",
              "      <td>NCD19</td>\n",
              "      <td>8.93</td>\n",
              "      <td>Low Fat</td>\n",
              "      <td>0.000000</td>\n",
              "      <td>Household</td>\n",
              "      <td>53.8614</td>\n",
              "      <td>OUT013</td>\n",
              "      <td>1987</td>\n",
              "      <td>High</td>\n",
              "      <td>Tier 3</td>\n",
              "      <td>Supermarket Type1</td>\n",
              "      <td>994.7052</td>\n",
              "    </tr>\n",
              "  </tbody>\n",
              "</table>\n",
              "</div>\n",
              "      <button class=\"colab-df-convert\" onclick=\"convertToInteractive('df-677e8a8d-8b98-4ac6-810b-d98b2b8bd1e4')\"\n",
              "              title=\"Convert this dataframe to an interactive table.\"\n",
              "              style=\"display:none;\">\n",
              "        \n",
              "  <svg xmlns=\"http://www.w3.org/2000/svg\" height=\"24px\"viewBox=\"0 0 24 24\"\n",
              "       width=\"24px\">\n",
              "    <path d=\"M0 0h24v24H0V0z\" fill=\"none\"/>\n",
              "    <path d=\"M18.56 5.44l.94 2.06.94-2.06 2.06-.94-2.06-.94-.94-2.06-.94 2.06-2.06.94zm-11 1L8.5 8.5l.94-2.06 2.06-.94-2.06-.94L8.5 2.5l-.94 2.06-2.06.94zm10 10l.94 2.06.94-2.06 2.06-.94-2.06-.94-.94-2.06-.94 2.06-2.06.94z\"/><path d=\"M17.41 7.96l-1.37-1.37c-.4-.4-.92-.59-1.43-.59-.52 0-1.04.2-1.43.59L10.3 9.45l-7.72 7.72c-.78.78-.78 2.05 0 2.83L4 21.41c.39.39.9.59 1.41.59.51 0 1.02-.2 1.41-.59l7.78-7.78 2.81-2.81c.8-.78.8-2.07 0-2.86zM5.41 20L4 18.59l7.72-7.72 1.47 1.35L5.41 20z\"/>\n",
              "  </svg>\n",
              "      </button>\n",
              "      \n",
              "  <style>\n",
              "    .colab-df-container {\n",
              "      display:flex;\n",
              "      flex-wrap:wrap;\n",
              "      gap: 12px;\n",
              "    }\n",
              "\n",
              "    .colab-df-convert {\n",
              "      background-color: #E8F0FE;\n",
              "      border: none;\n",
              "      border-radius: 50%;\n",
              "      cursor: pointer;\n",
              "      display: none;\n",
              "      fill: #1967D2;\n",
              "      height: 32px;\n",
              "      padding: 0 0 0 0;\n",
              "      width: 32px;\n",
              "    }\n",
              "\n",
              "    .colab-df-convert:hover {\n",
              "      background-color: #E2EBFA;\n",
              "      box-shadow: 0px 1px 2px rgba(60, 64, 67, 0.3), 0px 1px 3px 1px rgba(60, 64, 67, 0.15);\n",
              "      fill: #174EA6;\n",
              "    }\n",
              "\n",
              "    [theme=dark] .colab-df-convert {\n",
              "      background-color: #3B4455;\n",
              "      fill: #D2E3FC;\n",
              "    }\n",
              "\n",
              "    [theme=dark] .colab-df-convert:hover {\n",
              "      background-color: #434B5C;\n",
              "      box-shadow: 0px 1px 3px 1px rgba(0, 0, 0, 0.15);\n",
              "      filter: drop-shadow(0px 1px 2px rgba(0, 0, 0, 0.3));\n",
              "      fill: #FFFFFF;\n",
              "    }\n",
              "  </style>\n",
              "\n",
              "      <script>\n",
              "        const buttonEl =\n",
              "          document.querySelector('#df-677e8a8d-8b98-4ac6-810b-d98b2b8bd1e4 button.colab-df-convert');\n",
              "        buttonEl.style.display =\n",
              "          google.colab.kernel.accessAllowed ? 'block' : 'none';\n",
              "\n",
              "        async function convertToInteractive(key) {\n",
              "          const element = document.querySelector('#df-677e8a8d-8b98-4ac6-810b-d98b2b8bd1e4');\n",
              "          const dataTable =\n",
              "            await google.colab.kernel.invokeFunction('convertToInteractive',\n",
              "                                                     [key], {});\n",
              "          if (!dataTable) return;\n",
              "\n",
              "          const docLinkHtml = 'Like what you see? Visit the ' +\n",
              "            '<a target=\"_blank\" href=https://colab.research.google.com/notebooks/data_table.ipynb>data table notebook</a>'\n",
              "            + ' to learn more about interactive tables.';\n",
              "          element.innerHTML = '';\n",
              "          dataTable['output_type'] = 'display_data';\n",
              "          await google.colab.output.renderOutput(dataTable, element);\n",
              "          const docLink = document.createElement('div');\n",
              "          docLink.innerHTML = docLinkHtml;\n",
              "          element.appendChild(docLink);\n",
              "        }\n",
              "      </script>\n",
              "    </div>\n",
              "  </div>\n",
              "  "
            ]
          },
          "metadata": {},
          "execution_count": 4
        }
      ]
    },
    {
      "cell_type": "markdown",
      "source": [
        "- Data appears to have been loaded correctly."
      ],
      "metadata": {
        "id": "ClsAfjc2e9Wp"
      }
    },
    {
      "cell_type": "markdown",
      "source": [
        "### Display Dataframe Info"
      ],
      "metadata": {
        "id": "G5hLX99qenk4"
      }
    },
    {
      "cell_type": "code",
      "source": [
        "#The .info() method will print a concise summary of the Dataframe.\n",
        "#This method includes information on the index dtype and columns, non-null values and memory usage.\n",
        "df.info()"
      ],
      "metadata": {
        "id": "X4GaXVk7em3e",
        "outputId": "89b38ad1-1a94-4d5b-84d0-830efff52cef",
        "colab": {
          "base_uri": "https://localhost:8080/"
        }
      },
      "execution_count": 5,
      "outputs": [
        {
          "output_type": "stream",
          "name": "stdout",
          "text": [
            "<class 'pandas.core.frame.DataFrame'>\n",
            "RangeIndex: 8523 entries, 0 to 8522\n",
            "Data columns (total 12 columns):\n",
            " #   Column                     Non-Null Count  Dtype  \n",
            "---  ------                     --------------  -----  \n",
            " 0   Item_Identifier            8523 non-null   object \n",
            " 1   Item_Weight                7060 non-null   float64\n",
            " 2   Item_Fat_Content           8523 non-null   object \n",
            " 3   Item_Visibility            8523 non-null   float64\n",
            " 4   Item_Type                  8523 non-null   object \n",
            " 5   Item_MRP                   8523 non-null   float64\n",
            " 6   Outlet_Identifier          8523 non-null   object \n",
            " 7   Outlet_Establishment_Year  8523 non-null   int64  \n",
            " 8   Outlet_Size                6113 non-null   object \n",
            " 9   Outlet_Location_Type       8523 non-null   object \n",
            " 10  Outlet_Type                8523 non-null   object \n",
            " 11  Item_Outlet_Sales          8523 non-null   float64\n",
            "dtypes: float64(4), int64(1), object(7)\n",
            "memory usage: 799.2+ KB\n"
          ]
        }
      ]
    },
    {
      "cell_type": "markdown",
      "source": [
        "### 1. How many rows and columns are in the dataframe?"
      ],
      "metadata": {
        "id": "Zvk3tmtGcA2-"
      }
    },
    {
      "cell_type": "code",
      "source": [
        "#The .shape attribute returns the dimensions of the Dataframe in a tuple (rows, columns).\n",
        "df.shape\n",
        "print(f'The dataset contains {df.shape[0]} rows and {df.shape[1]} columns.')"
      ],
      "metadata": {
        "id": "0IX0n-KobdSs",
        "outputId": "c51424a9-0180-4c62-a792-2448709ca4b3",
        "colab": {
          "base_uri": "https://localhost:8080/"
        }
      },
      "execution_count": 6,
      "outputs": [
        {
          "output_type": "stream",
          "name": "stdout",
          "text": [
            "The dataset contains 8523 rows and 12 columns.\n"
          ]
        }
      ]
    },
    {
      "cell_type": "markdown",
      "source": [
        "### 2. What are the datatypes of each variable?"
      ],
      "metadata": {
        "id": "H91Q5m0In5A4"
      }
    },
    {
      "cell_type": "code",
      "source": [
        "#The .dtypes attribute returns a Series with the data type of each column.\n",
        "df.dtypes"
      ],
      "metadata": {
        "id": "ph-TwuwGpEmi",
        "outputId": "ad27618b-c4bf-4af7-854d-43ddc7a1a5d9",
        "colab": {
          "base_uri": "https://localhost:8080/"
        }
      },
      "execution_count": 7,
      "outputs": [
        {
          "output_type": "execute_result",
          "data": {
            "text/plain": [
              "Item_Identifier               object\n",
              "Item_Weight                  float64\n",
              "Item_Fat_Content              object\n",
              "Item_Visibility              float64\n",
              "Item_Type                     object\n",
              "Item_MRP                     float64\n",
              "Outlet_Identifier             object\n",
              "Outlet_Establishment_Year      int64\n",
              "Outlet_Size                   object\n",
              "Outlet_Location_Type          object\n",
              "Outlet_Type                   object\n",
              "Item_Outlet_Sales            float64\n",
              "dtype: object"
            ]
          },
          "metadata": {},
          "execution_count": 7
        }
      ]
    },
    {
      "cell_type": "markdown",
      "source": [
        "- Across each column, no inconsistent datatypes were found. "
      ],
      "metadata": {
        "id": "q8lz3gHHcysO"
      }
    },
    {
      "cell_type": "markdown",
      "source": [
        "### 3. Are there duplicates? If so, drop any duplicates."
      ],
      "metadata": {
        "id": "d15gC5ien8v8"
      }
    },
    {
      "cell_type": "code",
      "source": [
        "#The .duplicated() method returns a boolean Series denoting duplicate rows\n",
        "#Using .sum(), we can sum the 'True's that were returned for each duplicated row\n",
        "df.duplicated().sum()"
      ],
      "metadata": {
        "id": "4DMvCgMwpjLk",
        "outputId": "38244546-86c8-48ac-a608-11fd9166dc42",
        "colab": {
          "base_uri": "https://localhost:8080/"
        }
      },
      "execution_count": 8,
      "outputs": [
        {
          "output_type": "execute_result",
          "data": {
            "text/plain": [
              "0"
            ]
          },
          "metadata": {},
          "execution_count": 8
        }
      ]
    },
    {
      "cell_type": "markdown",
      "source": [
        "- No duplicated rows were found in our data.\n",
        "- If duplicates were present, we would use `df.drop_duplicates(keep='first', inplace= True)` to drop them from our dataset."
      ],
      "metadata": {
        "id": "_0JzeKSDqqM9"
      }
    },
    {
      "cell_type": "markdown",
      "source": [
        "### 4. Identify missing values."
      ],
      "metadata": {
        "id": "pnTKjmZEoAq1"
      }
    },
    {
      "cell_type": "code",
      "source": [
        "#The .isna() method detects missing values. It will return a boolean same-sized object indicating if the values are NA.\n",
        "#Using .sum(), we can sum the 'True's that are returned for missing values in each column.\n",
        "df.isna().sum()"
      ],
      "metadata": {
        "id": "fT-8dHDXq3II",
        "outputId": "a5416ea2-63c7-4a55-f302-4f1b1ed4ddd9",
        "colab": {
          "base_uri": "https://localhost:8080/"
        }
      },
      "execution_count": 9,
      "outputs": [
        {
          "output_type": "execute_result",
          "data": {
            "text/plain": [
              "Item_Identifier                 0\n",
              "Item_Weight                  1463\n",
              "Item_Fat_Content                0\n",
              "Item_Visibility                 0\n",
              "Item_Type                       0\n",
              "Item_MRP                        0\n",
              "Outlet_Identifier               0\n",
              "Outlet_Establishment_Year       0\n",
              "Outlet_Size                  2410\n",
              "Outlet_Location_Type            0\n",
              "Outlet_Type                     0\n",
              "Item_Outlet_Sales               0\n",
              "dtype: int64"
            ]
          },
          "metadata": {},
          "execution_count": 9
        }
      ]
    },
    {
      "cell_type": "code",
      "source": [
        "#The nullity matrix chart helps us understand the distribution of data within the whole dataset by column at the same time. \n",
        "msno.matrix(df, figsize = (15,5), fontsize = 12, color = [.27,.52,.95], sparkline = False, sort = 'descending');"
      ],
      "metadata": {
        "id": "fcV_bYecf3cT",
        "outputId": "02bbbdee-b4cb-447a-e217-b973ec11baec",
        "colab": {
          "base_uri": "https://localhost:8080/",
          "height": 442
        }
      },
      "execution_count": 10,
      "outputs": [
        {
          "output_type": "display_data",
          "data": {
            "text/plain": [
              "<Figure size 1080x360 with 1 Axes>"
            ],
            "image/png": "[encoded data removed]"
          },
          "metadata": {
            "needs_background": "light"
          }
        }
      ]
    },
    {
      "cell_type": "markdown",
      "source": [
        "We have identified that 2 columns with missing values:\n",
        "- Item_Weight has 1463 missing values\n",
        "- Outlet_Size has 2410 missing values"
      ],
      "metadata": {
        "id": "28FVy2HyrOpM"
      }
    },
    {
      "cell_type": "markdown",
      "source": [
        "### 5. Decide on how to address the missing values. Explain your judgement and choice."
      ],
      "metadata": {
        "id": "5CwPeUTXoDWY"
      }
    },
    {
      "cell_type": "markdown",
      "source": [
        "#### Item_Weight Missing Values\n",
        "\n",
        "`Item_Weight` has 1463 missing values."
      ],
      "metadata": {
        "id": "05hO7VQxK73F"
      }
    },
    {
      "cell_type": "code",
      "source": [
        "#The .isna() method will return the total count of null values in the 'Item_Weight' column by utilizing .sum()\n",
        "df['Item_Weight'].isna().sum()"
      ],
      "metadata": {
        "id": "iYB5qLgyoY96",
        "outputId": "b9663748-5d9c-4afe-a60b-820f084286ab",
        "colab": {
          "base_uri": "https://localhost:8080/"
        }
      },
      "execution_count": 11,
      "outputs": [
        {
          "output_type": "execute_result",
          "data": {
            "text/plain": [
              "1463"
            ]
          },
          "metadata": {},
          "execution_count": 11
        }
      ]
    },
    {
      "cell_type": "code",
      "source": [
        "#Scatterplot of the Item_Weight distribution by Item_Identifier. Used a sample of the first 100 lines of sorted data by weight to make the chart more readable. \n",
        "plt.figure(figsize = (16, 8))\n",
        "\n",
        "sns.stripplot(data=df.sort_values(by = ['Item_Identifier']).head(100).sort_values(by = ['Item_Weight']), x='Item_Identifier', y='Item_Weight', size = 4, jitter = .25)\n",
        "\n",
        "plt.title('Sample Item Weight Distribution by Item Identifier', fontsize = 20, weight='bold')\n",
        "plt.xlabel('Item Identifier', fontsize = 16)\n",
        "plt.ylabel('Item Weight', fontsize = 16)\n",
        "plt.xticks(fontsize = 10, rotation=45)\n",
        "plt.yticks(fontsize = 10);\n",
        "\n",
        "plt.grid(axis='x')\n",
        "plt.show;"
      ],
      "metadata": {
        "id": "3l-3pulvgJ_B",
        "outputId": "af39c636-9ed6-4d11-a8f9-153dd542d1f2",
        "colab": {
          "base_uri": "https://localhost:8080/",
          "height": 545
        }
      },
      "execution_count": 12,
      "outputs": [
        {
          "output_type": "display_data",
          "data": {
            "text/plain": [
              "<Figure size 1152x576 with 1 Axes>"
            ],
            "image/png": "[encoded data removed]"
          },
          "metadata": {
            "needs_background": "light"
          }
        }
      ]
    },
    {
      "cell_type": "markdown",
      "source": [
        "- Scatterplot of a sample of `Item_Weight`'s across `Item_Identifier`'s shows consistent `Item_Weight`'s in each `Item_Identifier` grouping."
      ],
      "metadata": {
        "id": "vKVGr9Jcji-u"
      }
    },
    {
      "cell_type": "code",
      "source": [
        "#Boxplot of the Item_Weight distribution by Item_Type in order to find the variation within each grouping. \n",
        "plt.figure(figsize = (16, 8))\n",
        "\n",
        "sns.boxplot(data=df, x='Item_Type', y='Item_Weight', notch=True)\n",
        "\n",
        "plt.title('Item Weight Distribution by Item Type', fontsize = 20, weight='bold')\n",
        "plt.xlabel('Item Type', fontsize = 16)\n",
        "plt.ylabel('Item Weight', fontsize = 16)\n",
        "plt.xticks(fontsize = 12, rotation=90)\n",
        "plt.yticks(fontsize = 12);\n",
        "\n",
        "plt.show;"
      ],
      "metadata": {
        "id": "XLfCfVAzdx7R",
        "outputId": "4ce7c82d-6784-4a06-a08d-af9f4cbcc431",
        "colab": {
          "base_uri": "https://localhost:8080/",
          "height": 643
        }
      },
      "execution_count": 13,
      "outputs": [
        {
          "output_type": "display_data",
          "data": {
            "text/plain": [
              "<Figure size 1152x576 with 1 Axes>"
            ],
            "image/png": "[encoded data removed]"
          },
          "metadata": {
            "needs_background": "light"
          }
        }
      ]
    },
    {
      "cell_type": "markdown",
      "source": [
        "- Boxplot is used to visualize the `Item_Weight`by `Item_Type`'s and provides an indication of where the median lies of each `Item_Type` group."
      ],
      "metadata": {
        "id": "sUJvVQuKj6G6"
      }
    },
    {
      "cell_type": "code",
      "source": [
        "#Loop through the index of the Dataframe\n",
        "for ind in df.index:\n",
        "    #Create a variable to hold the Item_Identifier of the current index\n",
        "    item_id = df.loc[ind,'Item_Identifier']\n",
        "\n",
        "    #Check if the location of the Item_Weight at the index is null\n",
        "    #Create a filter to filter out only 'Item_Identifier' values equivalent to the item_id\n",
        "    #Replace the null value with the .mean() of the 'Item_Weight' for the current 'Item_Identifier'. Values across 'Item_Identifier's are consistent.\n",
        "    if df.isnull().loc[ind, 'Item_Weight']:\n",
        "        item_filter = df['Item_Identifier'] == item_id\n",
        "        df.loc[ind, 'Item_Weight'] = df[item_filter]['Item_Weight'].mean()\n",
        "\n",
        "        #Additional check for the case of the null 'Item_Weight' being the only value for the 'Item_Identifier'\n",
        "        #Create a new filter to filter out only the 'Item_Type' values of the current index.\n",
        "        #Replace the null values with the .mean() of the 'Item_Weight' for the item's 'Item_Type'\n",
        "        if math.isnan(df[item_filter]['Item_Weight'].mean()):\n",
        "            type_filter = df['Item_Type'] == df.loc[ind, 'Item_Type']\n",
        "            df.loc[ind, 'Item_Weight'] = df[type_filter]['Item_Weight'].median()"
      ],
      "metadata": {
        "id": "u0JirT8JjDIN"
      },
      "execution_count": 14,
      "outputs": []
    },
    {
      "cell_type": "markdown",
      "source": [
        "- Unique `Item_Identifier`'s have consistent `Item_Weight`'s.\n",
        "    - The logic that was run updates null `Item_Weight` values with it's relevant `Item_Identifier`'s `Item_Weight` value.\n",
        "- In the case that the `Item_Identifier` only had null `Item_Weight` entries, the `Item_Weight` will be filled using the median `Item_Weight` of it's `Item_Type`."
      ],
      "metadata": {
        "id": "tQf-gL2UZWoN"
      }
    },
    {
      "cell_type": "code",
      "source": [
        "df['Item_Weight'].isna().sum()"
      ],
      "metadata": {
        "id": "JZsADxFgmMlE",
        "outputId": "bd2b33a5-106c-4d87-ce27-83686184da98",
        "colab": {
          "base_uri": "https://localhost:8080/"
        }
      },
      "execution_count": 15,
      "outputs": [
        {
          "output_type": "execute_result",
          "data": {
            "text/plain": [
              "0"
            ]
          },
          "metadata": {},
          "execution_count": 15
        }
      ]
    },
    {
      "cell_type": "markdown",
      "source": [
        "- No null values in `Item_Weight` left."
      ],
      "metadata": {
        "id": "saBNYXjgcOxI"
      }
    },
    {
      "cell_type": "markdown",
      "source": [
        "#### Outlet_Size Missing Values\n",
        "\n",
        "`Outlet_Size` has 2410 missing values.\n",
        "- Out of 8523 rows, this is a significant portion of the data (28.3%).\n"
      ],
      "metadata": {
        "id": "vtSm6f5D5oIC"
      }
    },
    {
      "cell_type": "markdown",
      "source": [
        "##### Missing Value Overview - Outlet_Size"
      ],
      "metadata": {
        "id": "TgE9aQXLY005"
      }
    },
    {
      "cell_type": "code",
      "source": [
        "#The .unique() method will return all values in the 'Outlet_Size' column.\n",
        "print(df['Outlet_Size'].unique())"
      ],
      "metadata": {
        "id": "RO4GlzmaP9jX",
        "outputId": "3b745009-802f-4a44-e8f2-9bd822cca346",
        "colab": {
          "base_uri": "https://localhost:8080/"
        }
      },
      "execution_count": 16,
      "outputs": [
        {
          "output_type": "stream",
          "name": "stdout",
          "text": [
            "['Medium' nan 'High' 'Small']\n"
          ]
        }
      ]
    },
    {
      "cell_type": "code",
      "source": [
        "#The .replace() method will replace 'High' with 'Large' inside the 'Outlet_Size' column in order to keep the language consistent.\n",
        "df['Outlet_Size'].replace('High', 'Large', inplace = True)\n",
        "print(df['Outlet_Size'].unique())"
      ],
      "metadata": {
        "id": "eko2meheWu76",
        "outputId": "b9c140c5-31f8-478b-e440-1e0443f33e9c",
        "colab": {
          "base_uri": "https://localhost:8080/"
        }
      },
      "execution_count": 17,
      "outputs": [
        {
          "output_type": "stream",
          "name": "stdout",
          "text": [
            "['Medium' nan 'Large' 'Small']\n"
          ]
        }
      ]
    },
    {
      "cell_type": "markdown",
      "source": [
        "- For consistency in language, \"High\" was replaced with \"Large\"\n",
        "- `Outlet_Size` contains three unique values: Small, Medium, Large"
      ],
      "metadata": {
        "id": "Z31rUxMmWbXl"
      }
    },
    {
      "cell_type": "code",
      "source": [
        "#The .groupby() method utilizes a lambda function to find the NaN 'Outlet_Size' values grouped by 'Outlet_Type' and 'Outlet_Location_Type'. \n",
        "df.groupby(['Outlet_Type','Outlet_Location_Type'])[['Outlet_Size']].apply(lambda x: x.isnull().sum())"
      ],
      "metadata": {
        "id": "0-H0zn_cs2Pk",
        "outputId": "aa09adc6-48fc-4674-904c-6230dd0e2a46",
        "colab": {
          "base_uri": "https://localhost:8080/",
          "height": 300
        }
      },
      "execution_count": 18,
      "outputs": [
        {
          "output_type": "execute_result",
          "data": {
            "text/plain": [
              "                                        Outlet_Size\n",
              "Outlet_Type       Outlet_Location_Type             \n",
              "Grocery Store     Tier 1                          0\n",
              "                  Tier 3                        555\n",
              "Supermarket Type1 Tier 1                          0\n",
              "                  Tier 2                       1855\n",
              "                  Tier 3                          0\n",
              "Supermarket Type2 Tier 3                          0\n",
              "Supermarket Type3 Tier 3                          0"
            ],
            "text/html": [
              "\n",
              "  <div id=\"df-de9edeb9-39ea-473d-b18e-9caa1f430547\">\n",
              "    <div class=\"colab-df-container\">\n",
              "      <div>\n",
              "<style scoped>\n",
              "    .dataframe tbody tr th:only-of-type {\n",
              "        vertical-align: middle;\n",
              "    }\n",
              "\n",
              "    .dataframe tbody tr th {\n",
              "        vertical-align: top;\n",
              "    }\n",
              "\n",
              "    .dataframe thead th {\n",
              "        text-align: right;\n",
              "    }\n",
              "</style>\n",
              "<table border=\"1\" class=\"dataframe\">\n",
              "  <thead>\n",
              "    <tr style=\"text-align: right;\">\n",
              "      <th></th>\n",
              "      <th></th>\n",
              "      <th>Outlet_Size</th>\n",
              "    </tr>\n",
              "    <tr>\n",
              "      <th>Outlet_Type</th>\n",
              "      <th>Outlet_Location_Type</th>\n",
              "      <th></th>\n",
              "    </tr>\n",
              "  </thead>\n",
              "  <tbody>\n",
              "    <tr>\n",
              "      <th rowspan=\"2\" valign=\"top\">Grocery Store</th>\n",
              "      <th>Tier 1</th>\n",
              "      <td>0</td>\n",
              "    </tr>\n",
              "    <tr>\n",
              "      <th>Tier 3</th>\n",
              "      <td>555</td>\n",
              "    </tr>\n",
              "    <tr>\n",
              "      <th rowspan=\"3\" valign=\"top\">Supermarket Type1</th>\n",
              "      <th>Tier 1</th>\n",
              "      <td>0</td>\n",
              "    </tr>\n",
              "    <tr>\n",
              "      <th>Tier 2</th>\n",
              "      <td>1855</td>\n",
              "    </tr>\n",
              "    <tr>\n",
              "      <th>Tier 3</th>\n",
              "      <td>0</td>\n",
              "    </tr>\n",
              "    <tr>\n",
              "      <th>Supermarket Type2</th>\n",
              "      <th>Tier 3</th>\n",
              "      <td>0</td>\n",
              "    </tr>\n",
              "    <tr>\n",
              "      <th>Supermarket Type3</th>\n",
              "      <th>Tier 3</th>\n",
              "      <td>0</td>\n",
              "    </tr>\n",
              "  </tbody>\n",
              "</table>\n",
              "</div>\n",
              "      <button class=\"colab-df-convert\" onclick=\"convertToInteractive('df-de9edeb9-39ea-473d-b18e-9caa1f430547')\"\n",
              "              title=\"Convert this dataframe to an interactive table.\"\n",
              "              style=\"display:none;\">\n",
              "        \n",
              "  <svg xmlns=\"http://www.w3.org/2000/svg\" height=\"24px\"viewBox=\"0 0 24 24\"\n",
              "       width=\"24px\">\n",
              "    <path d=\"M0 0h24v24H0V0z\" fill=\"none\"/>\n",
              "    <path d=\"M18.56 5.44l.94 2.06.94-2.06 2.06-.94-2.06-.94-.94-2.06-.94 2.06-2.06.94zm-11 1L8.5 8.5l.94-2.06 2.06-.94-2.06-.94L8.5 2.5l-.94 2.06-2.06.94zm10 10l.94 2.06.94-2.06 2.06-.94-2.06-.94-.94-2.06-.94 2.06-2.06.94z\"/><path d=\"M17.41 7.96l-1.37-1.37c-.4-.4-.92-.59-1.43-.59-.52 0-1.04.2-1.43.59L10.3 9.45l-7.72 7.72c-.78.78-.78 2.05 0 2.83L4 21.41c.39.39.9.59 1.41.59.51 0 1.02-.2 1.41-.59l7.78-7.78 2.81-2.81c.8-.78.8-2.07 0-2.86zM5.41 20L4 18.59l7.72-7.72 1.47 1.35L5.41 20z\"/>\n",
              "  </svg>\n",
              "      </button>\n",
              "      \n",
              "  <style>\n",
              "    .colab-df-container {\n",
              "      display:flex;\n",
              "      flex-wrap:wrap;\n",
              "      gap: 12px;\n",
              "    }\n",
              "\n",
              "    .colab-df-convert {\n",
              "      background-color: #E8F0FE;\n",
              "      border: none;\n",
              "      border-radius: 50%;\n",
              "      cursor: pointer;\n",
              "      display: none;\n",
              "      fill: #1967D2;\n",
              "      height: 32px;\n",
              "      padding: 0 0 0 0;\n",
              "      width: 32px;\n",
              "    }\n",
              "\n",
              "    .colab-df-convert:hover {\n",
              "      background-color: #E2EBFA;\n",
              "      box-shadow: 0px 1px 2px rgba(60, 64, 67, 0.3), 0px 1px 3px 1px rgba(60, 64, 67, 0.15);\n",
              "      fill: #174EA6;\n",
              "    }\n",
              "\n",
              "    [theme=dark] .colab-df-convert {\n",
              "      background-color: #3B4455;\n",
              "      fill: #D2E3FC;\n",
              "    }\n",
              "\n",
              "    [theme=dark] .colab-df-convert:hover {\n",
              "      background-color: #434B5C;\n",
              "      box-shadow: 0px 1px 3px 1px rgba(0, 0, 0, 0.15);\n",
              "      filter: drop-shadow(0px 1px 2px rgba(0, 0, 0, 0.3));\n",
              "      fill: #FFFFFF;\n",
              "    }\n",
              "  </style>\n",
              "\n",
              "      <script>\n",
              "        const buttonEl =\n",
              "          document.querySelector('#df-de9edeb9-39ea-473d-b18e-9caa1f430547 button.colab-df-convert');\n",
              "        buttonEl.style.display =\n",
              "          google.colab.kernel.accessAllowed ? 'block' : 'none';\n",
              "\n",
              "        async function convertToInteractive(key) {\n",
              "          const element = document.querySelector('#df-de9edeb9-39ea-473d-b18e-9caa1f430547');\n",
              "          const dataTable =\n",
              "            await google.colab.kernel.invokeFunction('convertToInteractive',\n",
              "                                                     [key], {});\n",
              "          if (!dataTable) return;\n",
              "\n",
              "          const docLinkHtml = 'Like what you see? Visit the ' +\n",
              "            '<a target=\"_blank\" href=https://colab.research.google.com/notebooks/data_table.ipynb>data table notebook</a>'\n",
              "            + ' to learn more about interactive tables.';\n",
              "          element.innerHTML = '';\n",
              "          dataTable['output_type'] = 'display_data';\n",
              "          await google.colab.output.renderOutput(dataTable, element);\n",
              "          const docLink = document.createElement('div');\n",
              "          docLink.innerHTML = docLinkHtml;\n",
              "          element.appendChild(docLink);\n",
              "        }\n",
              "      </script>\n",
              "    </div>\n",
              "  </div>\n",
              "  "
            ]
          },
          "metadata": {},
          "execution_count": 18
        }
      ]
    },
    {
      "cell_type": "markdown",
      "source": [
        "- Two categories of missing `Outlet_Size` data.\n",
        "    - Grocery Store: Tier 3\n",
        "    - Supermarket Type1: Tier 2"
      ],
      "metadata": {
        "id": "-FboK0-DUhy4"
      }
    },
    {
      "cell_type": "markdown",
      "source": [
        "##### Grocery Store Missing Values"
      ],
      "metadata": {
        "id": "nQJHRFOKYZoA"
      }
    },
    {
      "cell_type": "code",
      "source": [
        "#The .groupby() method will sum the 'Item_Outlet_Sales' values grouped by 'Outlet_Type' and 'Outlet_Location_Type' with a displayed .agg of both the average sales and total sales.\n",
        "round(df.groupby(['Outlet_Type','Outlet_Location_Type'])['Item_Outlet_Sales'].agg(['sum', 'mean']).rename(columns = {'sum':'Total Sales', 'mean':'Average Sales'}),2)"
      ],
      "metadata": {
        "id": "gXqoNrhWSR9E",
        "outputId": "65bc6a6c-d530-4eee-ba19-309c952d0b47",
        "colab": {
          "base_uri": "https://localhost:8080/",
          "height": 300
        }
      },
      "execution_count": 19,
      "outputs": [
        {
          "output_type": "execute_result",
          "data": {
            "text/plain": [
              "                                        Total Sales  Average Sales\n",
              "Outlet_Type       Outlet_Location_Type                            \n",
              "Grocery Store     Tier 1                  179694.09         340.33\n",
              "                  Tier 3                  188340.17         339.35\n",
              "Supermarket Type1 Tier 1                 4302364.98        2313.10\n",
              "                  Tier 2                 6472313.71        2323.99\n",
              "                  Tier 3                 2142663.58        2299.00\n",
              "Supermarket Type2 Tier 3                 1851822.83        1995.50\n",
              "Supermarket Type3 Tier 3                 3453926.05        3694.04"
            ],
            "text/html": [
              "\n",
              "  <div id=\"df-0e626334-9020-45c7-af83-87174754ae22\">\n",
              "    <div class=\"colab-df-container\">\n",
              "      <div>\n",
              "<style scoped>\n",
              "    .dataframe tbody tr th:only-of-type {\n",
              "        vertical-align: middle;\n",
              "    }\n",
              "\n",
              "    .dataframe tbody tr th {\n",
              "        vertical-align: top;\n",
              "    }\n",
              "\n",
              "    .dataframe thead th {\n",
              "        text-align: right;\n",
              "    }\n",
              "</style>\n",
              "<table border=\"1\" class=\"dataframe\">\n",
              "  <thead>\n",
              "    <tr style=\"text-align: right;\">\n",
              "      <th></th>\n",
              "      <th></th>\n",
              "      <th>Total Sales</th>\n",
              "      <th>Average Sales</th>\n",
              "    </tr>\n",
              "    <tr>\n",
              "      <th>Outlet_Type</th>\n",
              "      <th>Outlet_Location_Type</th>\n",
              "      <th></th>\n",
              "      <th></th>\n",
              "    </tr>\n",
              "  </thead>\n",
              "  <tbody>\n",
              "    <tr>\n",
              "      <th rowspan=\"2\" valign=\"top\">Grocery Store</th>\n",
              "      <th>Tier 1</th>\n",
              "      <td>179694.09</td>\n",
              "      <td>340.33</td>\n",
              "    </tr>\n",
              "    <tr>\n",
              "      <th>Tier 3</th>\n",
              "      <td>188340.17</td>\n",
              "      <td>339.35</td>\n",
              "    </tr>\n",
              "    <tr>\n",
              "      <th rowspan=\"3\" valign=\"top\">Supermarket Type1</th>\n",
              "      <th>Tier 1</th>\n",
              "      <td>4302364.98</td>\n",
              "      <td>2313.10</td>\n",
              "    </tr>\n",
              "    <tr>\n",
              "      <th>Tier 2</th>\n",
              "      <td>6472313.71</td>\n",
              "      <td>2323.99</td>\n",
              "    </tr>\n",
              "    <tr>\n",
              "      <th>Tier 3</th>\n",
              "      <td>2142663.58</td>\n",
              "      <td>2299.00</td>\n",
              "    </tr>\n",
              "    <tr>\n",
              "      <th>Supermarket Type2</th>\n",
              "      <th>Tier 3</th>\n",
              "      <td>1851822.83</td>\n",
              "      <td>1995.50</td>\n",
              "    </tr>\n",
              "    <tr>\n",
              "      <th>Supermarket Type3</th>\n",
              "      <th>Tier 3</th>\n",
              "      <td>3453926.05</td>\n",
              "      <td>3694.04</td>\n",
              "    </tr>\n",
              "  </tbody>\n",
              "</table>\n",
              "</div>\n",
              "      <button class=\"colab-df-convert\" onclick=\"convertToInteractive('df-0e626334-9020-45c7-af83-87174754ae22')\"\n",
              "              title=\"Convert this dataframe to an interactive table.\"\n",
              "              style=\"display:none;\">\n",
              "        \n",
              "  <svg xmlns=\"http://www.w3.org/2000/svg\" height=\"24px\"viewBox=\"0 0 24 24\"\n",
              "       width=\"24px\">\n",
              "    <path d=\"M0 0h24v24H0V0z\" fill=\"none\"/>\n",
              "    <path d=\"M18.56 5.44l.94 2.06.94-2.06 2.06-.94-2.06-.94-.94-2.06-.94 2.06-2.06.94zm-11 1L8.5 8.5l.94-2.06 2.06-.94-2.06-.94L8.5 2.5l-.94 2.06-2.06.94zm10 10l.94 2.06.94-2.06 2.06-.94-2.06-.94-.94-2.06-.94 2.06-2.06.94z\"/><path d=\"M17.41 7.96l-1.37-1.37c-.4-.4-.92-.59-1.43-.59-.52 0-1.04.2-1.43.59L10.3 9.45l-7.72 7.72c-.78.78-.78 2.05 0 2.83L4 21.41c.39.39.9.59 1.41.59.51 0 1.02-.2 1.41-.59l7.78-7.78 2.81-2.81c.8-.78.8-2.07 0-2.86zM5.41 20L4 18.59l7.72-7.72 1.47 1.35L5.41 20z\"/>\n",
              "  </svg>\n",
              "      </button>\n",
              "      \n",
              "  <style>\n",
              "    .colab-df-container {\n",
              "      display:flex;\n",
              "      flex-wrap:wrap;\n",
              "      gap: 12px;\n",
              "    }\n",
              "\n",
              "    .colab-df-convert {\n",
              "      background-color: #E8F0FE;\n",
              "      border: none;\n",
              "      border-radius: 50%;\n",
              "      cursor: pointer;\n",
              "      display: none;\n",
              "      fill: #1967D2;\n",
              "      height: 32px;\n",
              "      padding: 0 0 0 0;\n",
              "      width: 32px;\n",
              "    }\n",
              "\n",
              "    .colab-df-convert:hover {\n",
              "      background-color: #E2EBFA;\n",
              "      box-shadow: 0px 1px 2px rgba(60, 64, 67, 0.3), 0px 1px 3px 1px rgba(60, 64, 67, 0.15);\n",
              "      fill: #174EA6;\n",
              "    }\n",
              "\n",
              "    [theme=dark] .colab-df-convert {\n",
              "      background-color: #3B4455;\n",
              "      fill: #D2E3FC;\n",
              "    }\n",
              "\n",
              "    [theme=dark] .colab-df-convert:hover {\n",
              "      background-color: #434B5C;\n",
              "      box-shadow: 0px 1px 3px 1px rgba(0, 0, 0, 0.15);\n",
              "      filter: drop-shadow(0px 1px 2px rgba(0, 0, 0, 0.3));\n",
              "      fill: #FFFFFF;\n",
              "    }\n",
              "  </style>\n",
              "\n",
              "      <script>\n",
              "        const buttonEl =\n",
              "          document.querySelector('#df-0e626334-9020-45c7-af83-87174754ae22 button.colab-df-convert');\n",
              "        buttonEl.style.display =\n",
              "          google.colab.kernel.accessAllowed ? 'block' : 'none';\n",
              "\n",
              "        async function convertToInteractive(key) {\n",
              "          const element = document.querySelector('#df-0e626334-9020-45c7-af83-87174754ae22');\n",
              "          const dataTable =\n",
              "            await google.colab.kernel.invokeFunction('convertToInteractive',\n",
              "                                                     [key], {});\n",
              "          if (!dataTable) return;\n",
              "\n",
              "          const docLinkHtml = 'Like what you see? Visit the ' +\n",
              "            '<a target=\"_blank\" href=https://colab.research.google.com/notebooks/data_table.ipynb>data table notebook</a>'\n",
              "            + ' to learn more about interactive tables.';\n",
              "          element.innerHTML = '';\n",
              "          dataTable['output_type'] = 'display_data';\n",
              "          await google.colab.output.renderOutput(dataTable, element);\n",
              "          const docLink = document.createElement('div');\n",
              "          docLink.innerHTML = docLinkHtml;\n",
              "          element.appendChild(docLink);\n",
              "        }\n",
              "      </script>\n",
              "    </div>\n",
              "  </div>\n",
              "  "
            ]
          },
          "metadata": {},
          "execution_count": 19
        }
      ]
    },
    {
      "cell_type": "code",
      "source": [
        "#The .value_counts() method will provide the counts of 'Outlet_Size' filtered by only Grocery Store 'Outlet_Type's.\n",
        "store_filter = df['Outlet_Type'] == 'Grocery Store'\n",
        "df[store_filter].value_counts('Outlet_Size')"
      ],
      "metadata": {
        "id": "EPyoAQPtVIke",
        "outputId": "d85bec1e-e5bc-44e5-e575-77c272d74b1e",
        "colab": {
          "base_uri": "https://localhost:8080/"
        }
      },
      "execution_count": 20,
      "outputs": [
        {
          "output_type": "execute_result",
          "data": {
            "text/plain": [
              "Outlet_Size\n",
              "Small    528\n",
              "dtype: int64"
            ]
          },
          "metadata": {},
          "execution_count": 20
        }
      ]
    },
    {
      "cell_type": "markdown",
      "source": [
        "- Sales data for the missing values in Grocery Store - Tier 3 indicate that the `Outlet_Size` is nearly identical to Grocery Store - Tier 1.\n",
        "    - All `Outlet_Size`'s for Grocery Store's are Small.\n",
        "    - Using this information, the missing values with the Grocery Store `Outlet_Type` will be imputed as Small."
      ],
      "metadata": {
        "id": "dtwaHVerVFaB"
      }
    },
    {
      "cell_type": "code",
      "source": [
        "#Update null values with 'Small' with the Outlet_Type 'Grocery Store'\n",
        "df.loc[store_filter & (df['Outlet_Size'].isnull()), 'Outlet_Size'] = 'Small'\n",
        "df[store_filter]['Outlet_Size'].isna().sum()"
      ],
      "metadata": {
        "id": "mDgYVN6QWXQe",
        "outputId": "ae94a683-d905-4d55-db89-966694b8417f",
        "colab": {
          "base_uri": "https://localhost:8080/"
        }
      },
      "execution_count": 22,
      "outputs": [
        {
          "output_type": "execute_result",
          "data": {
            "text/plain": [
              "0"
            ]
          },
          "metadata": {},
          "execution_count": 22
        }
      ]
    },
    {
      "cell_type": "markdown",
      "source": [
        "- Separately, the following can be noted:\n",
        "    - Grocery Store Tier 3 only contained missing values\n",
        "    - Total Sales and Avg Sales for Grocery Store Tier 3 are close to the sales values for Grocery Store Tier 1.\n",
        "\n",
        "- Without further knowledge of the `Outlet_Location_Type` column from a SME, it is safe to assume that these rows were incorrectly identified as Tier 3 and will be imputed as Tier 1."
      ],
      "metadata": {
        "id": "1tAH5l2pV6bs"
      }
    },
    {
      "cell_type": "code",
      "source": [
        "#Replace grocery store Outlet_Location_Type Tier 3 with Tier 1\n",
        "df.loc[store_filter, 'Outlet_Location_Type'] = df.loc[store_filter, 'Outlet_Location_Type'].replace('Tier 3', 'Tier 1')\n",
        "df[store_filter]['Outlet_Location_Type'].unique()"
      ],
      "metadata": {
        "id": "Nn9b4eQyaK25",
        "outputId": "82d86fb1-9435-4199-ecf1-af12ffbb1047",
        "colab": {
          "base_uri": "https://localhost:8080/"
        }
      },
      "execution_count": 28,
      "outputs": [
        {
          "output_type": "execute_result",
          "data": {
            "text/plain": [
              "array(['Tier 1'], dtype=object)"
            ]
          },
          "metadata": {},
          "execution_count": 28
        }
      ]
    },
    {
      "cell_type": "markdown",
      "source": [
        "- Missing values in `Outlet_Size` of Grocery Store have been imputed.\n",
        "- Grocery Store `Outlet_Location_Type` Tier 3 has been updated to Tier 1."
      ],
      "metadata": {
        "id": "WcrgqedjYjlv"
      }
    },
    {
      "cell_type": "markdown",
      "source": [
        "##### Supermarket Type1 Missing Values"
      ],
      "metadata": {
        "id": "0XSt_0yOYfue"
      }
    },
    {
      "cell_type": "code",
      "source": [
        "#The .groupby() method utilizes a lambda function to find the NaN 'Outlet_Size' values grouped by 'Outlet_Type' and 'Outlet_Location_Type'. \n",
        "df.groupby(['Outlet_Type','Outlet_Location_Type'])[['Outlet_Size']].apply(lambda x: x.isnull().sum())"
      ],
      "metadata": {
        "id": "tc1TsASNYVLY",
        "outputId": "2bbe25b7-3c07-4af0-bda5-0af1669768a8",
        "colab": {
          "base_uri": "https://localhost:8080/",
          "height": 269
        }
      },
      "execution_count": 29,
      "outputs": [
        {
          "output_type": "execute_result",
          "data": {
            "text/plain": [
              "                                        Outlet_Size\n",
              "Outlet_Type       Outlet_Location_Type             \n",
              "Grocery Store     Tier 1                          0\n",
              "Supermarket Type1 Tier 1                          0\n",
              "                  Tier 2                       1855\n",
              "                  Tier 3                          0\n",
              "Supermarket Type2 Tier 3                          0\n",
              "Supermarket Type3 Tier 3                          0"
            ],
            "text/html": [
              "\n",
              "  <div id=\"df-4719ddc4-5769-43a0-b8fb-8cc5584bfe21\">\n",
              "    <div class=\"colab-df-container\">\n",
              "      <div>\n",
              "<style scoped>\n",
              "    .dataframe tbody tr th:only-of-type {\n",
              "        vertical-align: middle;\n",
              "    }\n",
              "\n",
              "    .dataframe tbody tr th {\n",
              "        vertical-align: top;\n",
              "    }\n",
              "\n",
              "    .dataframe thead th {\n",
              "        text-align: right;\n",
              "    }\n",
              "</style>\n",
              "<table border=\"1\" class=\"dataframe\">\n",
              "  <thead>\n",
              "    <tr style=\"text-align: right;\">\n",
              "      <th></th>\n",
              "      <th></th>\n",
              "      <th>Outlet_Size</th>\n",
              "    </tr>\n",
              "    <tr>\n",
              "      <th>Outlet_Type</th>\n",
              "      <th>Outlet_Location_Type</th>\n",
              "      <th></th>\n",
              "    </tr>\n",
              "  </thead>\n",
              "  <tbody>\n",
              "    <tr>\n",
              "      <th>Grocery Store</th>\n",
              "      <th>Tier 1</th>\n",
              "      <td>0</td>\n",
              "    </tr>\n",
              "    <tr>\n",
              "      <th rowspan=\"3\" valign=\"top\">Supermarket Type1</th>\n",
              "      <th>Tier 1</th>\n",
              "      <td>0</td>\n",
              "    </tr>\n",
              "    <tr>\n",
              "      <th>Tier 2</th>\n",
              "      <td>1855</td>\n",
              "    </tr>\n",
              "    <tr>\n",
              "      <th>Tier 3</th>\n",
              "      <td>0</td>\n",
              "    </tr>\n",
              "    <tr>\n",
              "      <th>Supermarket Type2</th>\n",
              "      <th>Tier 3</th>\n",
              "      <td>0</td>\n",
              "    </tr>\n",
              "    <tr>\n",
              "      <th>Supermarket Type3</th>\n",
              "      <th>Tier 3</th>\n",
              "      <td>0</td>\n",
              "    </tr>\n",
              "  </tbody>\n",
              "</table>\n",
              "</div>\n",
              "      <button class=\"colab-df-convert\" onclick=\"convertToInteractive('df-4719ddc4-5769-43a0-b8fb-8cc5584bfe21')\"\n",
              "              title=\"Convert this dataframe to an interactive table.\"\n",
              "              style=\"display:none;\">\n",
              "        \n",
              "  <svg xmlns=\"http://www.w3.org/2000/svg\" height=\"24px\"viewBox=\"0 0 24 24\"\n",
              "       width=\"24px\">\n",
              "    <path d=\"M0 0h24v24H0V0z\" fill=\"none\"/>\n",
              "    <path d=\"M18.56 5.44l.94 2.06.94-2.06 2.06-.94-2.06-.94-.94-2.06-.94 2.06-2.06.94zm-11 1L8.5 8.5l.94-2.06 2.06-.94-2.06-.94L8.5 2.5l-.94 2.06-2.06.94zm10 10l.94 2.06.94-2.06 2.06-.94-2.06-.94-.94-2.06-.94 2.06-2.06.94z\"/><path d=\"M17.41 7.96l-1.37-1.37c-.4-.4-.92-.59-1.43-.59-.52 0-1.04.2-1.43.59L10.3 9.45l-7.72 7.72c-.78.78-.78 2.05 0 2.83L4 21.41c.39.39.9.59 1.41.59.51 0 1.02-.2 1.41-.59l7.78-7.78 2.81-2.81c.8-.78.8-2.07 0-2.86zM5.41 20L4 18.59l7.72-7.72 1.47 1.35L5.41 20z\"/>\n",
              "  </svg>\n",
              "      </button>\n",
              "      \n",
              "  <style>\n",
              "    .colab-df-container {\n",
              "      display:flex;\n",
              "      flex-wrap:wrap;\n",
              "      gap: 12px;\n",
              "    }\n",
              "\n",
              "    .colab-df-convert {\n",
              "      background-color: #E8F0FE;\n",
              "      border: none;\n",
              "      border-radius: 50%;\n",
              "      cursor: pointer;\n",
              "      display: none;\n",
              "      fill: #1967D2;\n",
              "      height: 32px;\n",
              "      padding: 0 0 0 0;\n",
              "      width: 32px;\n",
              "    }\n",
              "\n",
              "    .colab-df-convert:hover {\n",
              "      background-color: #E2EBFA;\n",
              "      box-shadow: 0px 1px 2px rgba(60, 64, 67, 0.3), 0px 1px 3px 1px rgba(60, 64, 67, 0.15);\n",
              "      fill: #174EA6;\n",
              "    }\n",
              "\n",
              "    [theme=dark] .colab-df-convert {\n",
              "      background-color: #3B4455;\n",
              "      fill: #D2E3FC;\n",
              "    }\n",
              "\n",
              "    [theme=dark] .colab-df-convert:hover {\n",
              "      background-color: #434B5C;\n",
              "      box-shadow: 0px 1px 3px 1px rgba(0, 0, 0, 0.15);\n",
              "      filter: drop-shadow(0px 1px 2px rgba(0, 0, 0, 0.3));\n",
              "      fill: #FFFFFF;\n",
              "    }\n",
              "  </style>\n",
              "\n",
              "      <script>\n",
              "        const buttonEl =\n",
              "          document.querySelector('#df-4719ddc4-5769-43a0-b8fb-8cc5584bfe21 button.colab-df-convert');\n",
              "        buttonEl.style.display =\n",
              "          google.colab.kernel.accessAllowed ? 'block' : 'none';\n",
              "\n",
              "        async function convertToInteractive(key) {\n",
              "          const element = document.querySelector('#df-4719ddc4-5769-43a0-b8fb-8cc5584bfe21');\n",
              "          const dataTable =\n",
              "            await google.colab.kernel.invokeFunction('convertToInteractive',\n",
              "                                                     [key], {});\n",
              "          if (!dataTable) return;\n",
              "\n",
              "          const docLinkHtml = 'Like what you see? Visit the ' +\n",
              "            '<a target=\"_blank\" href=https://colab.research.google.com/notebooks/data_table.ipynb>data table notebook</a>'\n",
              "            + ' to learn more about interactive tables.';\n",
              "          element.innerHTML = '';\n",
              "          dataTable['output_type'] = 'display_data';\n",
              "          await google.colab.output.renderOutput(dataTable, element);\n",
              "          const docLink = document.createElement('div');\n",
              "          docLink.innerHTML = docLinkHtml;\n",
              "          element.appendChild(docLink);\n",
              "        }\n",
              "      </script>\n",
              "    </div>\n",
              "  </div>\n",
              "  "
            ]
          },
          "metadata": {},
          "execution_count": 29
        }
      ]
    },
    {
      "cell_type": "code",
      "source": [
        "df['Outlet_Location_Type'].value_counts()"
      ],
      "metadata": {
        "id": "FnYzxA7PhH3N",
        "outputId": "750eb6c7-b4e1-444c-e689-8869445ed4b6",
        "colab": {
          "base_uri": "https://localhost:8080/"
        }
      },
      "execution_count": 177,
      "outputs": [
        {
          "output_type": "execute_result",
          "data": {
            "text/plain": [
              "Tier 1    1083\n",
              "Name: Outlet_Location_Type, dtype: int64"
            ]
          },
          "metadata": {},
          "execution_count": 177
        }
      ]
    },
    {
      "cell_type": "code",
      "source": [
        "#\n",
        "store_filter2 = df['Outlet_Type'] == 'Supermarket Type1'\n",
        "tier_filter = df['Outlet_Location_Type'] == 'Tier 2'\n",
        "df[tier_filter & store_filter2].value_counts('Outlet_Size')"
      ],
      "metadata": {
        "id": "59yM9HnRZPQw",
        "outputId": "55ea7ba8-e6d6-4775-9412-e0e5d98db502",
        "colab": {
          "base_uri": "https://localhost:8080/"
        }
      },
      "execution_count": 24,
      "outputs": [
        {
          "output_type": "execute_result",
          "data": {
            "text/plain": [
              "Outlet_Size\n",
              "Small    930\n",
              "dtype: int64"
            ]
          },
          "metadata": {},
          "execution_count": 24
        }
      ]
    },
    {
      "cell_type": "markdown",
      "source": [
        "- Only `Outlet_Size` Small is applied to values to Supermarket Type1 Tier 2 Outlets.\n",
        "    - Before imputing all missing values in this category as Small, a further investigation into the sales comparison is warranted."
      ],
      "metadata": {
        "id": "qNamseETfjo4"
      }
    },
    {
      "cell_type": "code",
      "source": [
        "#The .groupby() method will sum the 'Item_Outlet_Sales' values grouped by 'Outlet_Type' and 'Outlet_Location_Type' with a displayed .agg of both the average sales and total sales.\n",
        "round(df.groupby(['Outlet_Type','Outlet_Location_Type','Outlet_Size'])['Item_Outlet_Sales'].agg(['sum', 'mean']).rename(columns = {'sum':'Total Sales', 'mean':'Average Sales'}),2)"
      ],
      "metadata": {
        "id": "zoXdD9zMfijv",
        "outputId": "85fa00e7-c944-4e9a-8cca-7022c7caa57d",
        "colab": {
          "base_uri": "https://localhost:8080/",
          "height": 300
        }
      },
      "execution_count": 30,
      "outputs": [
        {
          "output_type": "execute_result",
          "data": {
            "text/plain": [
              "                                                    Total Sales  Average Sales\n",
              "Outlet_Type       Outlet_Location_Type Outlet_Size                            \n",
              "Grocery Store     Tier 1               Small          368034.27         339.83\n",
              "Supermarket Type1 Tier 1               Medium        2183969.81        2348.35\n",
              "                                       Small         2118395.17        2277.84\n",
              "                  Tier 2               Small         2268122.94        2438.84\n",
              "                  Tier 3               Large         2142663.58        2299.00\n",
              "Supermarket Type2 Tier 3               Medium        1851822.83        1995.50\n",
              "Supermarket Type3 Tier 3               Medium        3453926.05        3694.04"
            ],
            "text/html": [
              "\n",
              "  <div id=\"df-4e30353d-26a0-497c-b35f-67fbe9197d59\">\n",
              "    <div class=\"colab-df-container\">\n",
              "      <div>\n",
              "<style scoped>\n",
              "    .dataframe tbody tr th:only-of-type {\n",
              "        vertical-align: middle;\n",
              "    }\n",
              "\n",
              "    .dataframe tbody tr th {\n",
              "        vertical-align: top;\n",
              "    }\n",
              "\n",
              "    .dataframe thead th {\n",
              "        text-align: right;\n",
              "    }\n",
              "</style>\n",
              "<table border=\"1\" class=\"dataframe\">\n",
              "  <thead>\n",
              "    <tr style=\"text-align: right;\">\n",
              "      <th></th>\n",
              "      <th></th>\n",
              "      <th></th>\n",
              "      <th>Total Sales</th>\n",
              "      <th>Average Sales</th>\n",
              "    </tr>\n",
              "    <tr>\n",
              "      <th>Outlet_Type</th>\n",
              "      <th>Outlet_Location_Type</th>\n",
              "      <th>Outlet_Size</th>\n",
              "      <th></th>\n",
              "      <th></th>\n",
              "    </tr>\n",
              "  </thead>\n",
              "  <tbody>\n",
              "    <tr>\n",
              "      <th>Grocery Store</th>\n",
              "      <th>Tier 1</th>\n",
              "      <th>Small</th>\n",
              "      <td>368034.27</td>\n",
              "      <td>339.83</td>\n",
              "    </tr>\n",
              "    <tr>\n",
              "      <th rowspan=\"4\" valign=\"top\">Supermarket Type1</th>\n",
              "      <th rowspan=\"2\" valign=\"top\">Tier 1</th>\n",
              "      <th>Medium</th>\n",
              "      <td>2183969.81</td>\n",
              "      <td>2348.35</td>\n",
              "    </tr>\n",
              "    <tr>\n",
              "      <th>Small</th>\n",
              "      <td>2118395.17</td>\n",
              "      <td>2277.84</td>\n",
              "    </tr>\n",
              "    <tr>\n",
              "      <th>Tier 2</th>\n",
              "      <th>Small</th>\n",
              "      <td>2268122.94</td>\n",
              "      <td>2438.84</td>\n",
              "    </tr>\n",
              "    <tr>\n",
              "      <th>Tier 3</th>\n",
              "      <th>Large</th>\n",
              "      <td>2142663.58</td>\n",
              "      <td>2299.00</td>\n",
              "    </tr>\n",
              "    <tr>\n",
              "      <th>Supermarket Type2</th>\n",
              "      <th>Tier 3</th>\n",
              "      <th>Medium</th>\n",
              "      <td>1851822.83</td>\n",
              "      <td>1995.50</td>\n",
              "    </tr>\n",
              "    <tr>\n",
              "      <th>Supermarket Type3</th>\n",
              "      <th>Tier 3</th>\n",
              "      <th>Medium</th>\n",
              "      <td>3453926.05</td>\n",
              "      <td>3694.04</td>\n",
              "    </tr>\n",
              "  </tbody>\n",
              "</table>\n",
              "</div>\n",
              "      <button class=\"colab-df-convert\" onclick=\"convertToInteractive('df-4e30353d-26a0-497c-b35f-67fbe9197d59')\"\n",
              "              title=\"Convert this dataframe to an interactive table.\"\n",
              "              style=\"display:none;\">\n",
              "        \n",
              "  <svg xmlns=\"http://www.w3.org/2000/svg\" height=\"24px\"viewBox=\"0 0 24 24\"\n",
              "       width=\"24px\">\n",
              "    <path d=\"M0 0h24v24H0V0z\" fill=\"none\"/>\n",
              "    <path d=\"M18.56 5.44l.94 2.06.94-2.06 2.06-.94-2.06-.94-.94-2.06-.94 2.06-2.06.94zm-11 1L8.5 8.5l.94-2.06 2.06-.94-2.06-.94L8.5 2.5l-.94 2.06-2.06.94zm10 10l.94 2.06.94-2.06 2.06-.94-2.06-.94-.94-2.06-.94 2.06-2.06.94z\"/><path d=\"M17.41 7.96l-1.37-1.37c-.4-.4-.92-.59-1.43-.59-.52 0-1.04.2-1.43.59L10.3 9.45l-7.72 7.72c-.78.78-.78 2.05 0 2.83L4 21.41c.39.39.9.59 1.41.59.51 0 1.02-.2 1.41-.59l7.78-7.78 2.81-2.81c.8-.78.8-2.07 0-2.86zM5.41 20L4 18.59l7.72-7.72 1.47 1.35L5.41 20z\"/>\n",
              "  </svg>\n",
              "      </button>\n",
              "      \n",
              "  <style>\n",
              "    .colab-df-container {\n",
              "      display:flex;\n",
              "      flex-wrap:wrap;\n",
              "      gap: 12px;\n",
              "    }\n",
              "\n",
              "    .colab-df-convert {\n",
              "      background-color: #E8F0FE;\n",
              "      border: none;\n",
              "      border-radius: 50%;\n",
              "      cursor: pointer;\n",
              "      display: none;\n",
              "      fill: #1967D2;\n",
              "      height: 32px;\n",
              "      padding: 0 0 0 0;\n",
              "      width: 32px;\n",
              "    }\n",
              "\n",
              "    .colab-df-convert:hover {\n",
              "      background-color: #E2EBFA;\n",
              "      box-shadow: 0px 1px 2px rgba(60, 64, 67, 0.3), 0px 1px 3px 1px rgba(60, 64, 67, 0.15);\n",
              "      fill: #174EA6;\n",
              "    }\n",
              "\n",
              "    [theme=dark] .colab-df-convert {\n",
              "      background-color: #3B4455;\n",
              "      fill: #D2E3FC;\n",
              "    }\n",
              "\n",
              "    [theme=dark] .colab-df-convert:hover {\n",
              "      background-color: #434B5C;\n",
              "      box-shadow: 0px 1px 3px 1px rgba(0, 0, 0, 0.15);\n",
              "      filter: drop-shadow(0px 1px 2px rgba(0, 0, 0, 0.3));\n",
              "      fill: #FFFFFF;\n",
              "    }\n",
              "  </style>\n",
              "\n",
              "      <script>\n",
              "        const buttonEl =\n",
              "          document.querySelector('#df-4e30353d-26a0-497c-b35f-67fbe9197d59 button.colab-df-convert');\n",
              "        buttonEl.style.display =\n",
              "          google.colab.kernel.accessAllowed ? 'block' : 'none';\n",
              "\n",
              "        async function convertToInteractive(key) {\n",
              "          const element = document.querySelector('#df-4e30353d-26a0-497c-b35f-67fbe9197d59');\n",
              "          const dataTable =\n",
              "            await google.colab.kernel.invokeFunction('convertToInteractive',\n",
              "                                                     [key], {});\n",
              "          if (!dataTable) return;\n",
              "\n",
              "          const docLinkHtml = 'Like what you see? Visit the ' +\n",
              "            '<a target=\"_blank\" href=https://colab.research.google.com/notebooks/data_table.ipynb>data table notebook</a>'\n",
              "            + ' to learn more about interactive tables.';\n",
              "          element.innerHTML = '';\n",
              "          dataTable['output_type'] = 'display_data';\n",
              "          await google.colab.output.renderOutput(dataTable, element);\n",
              "          const docLink = document.createElement('div');\n",
              "          docLink.innerHTML = docLinkHtml;\n",
              "          element.appendChild(docLink);\n",
              "        }\n",
              "      </script>\n",
              "    </div>\n",
              "  </div>\n",
              "  "
            ]
          },
          "metadata": {},
          "execution_count": 30
        }
      ]
    },
    {
      "cell_type": "code",
      "source": [
        "#The .groupby() method will sum the 'Item_Outlet_Sales' values grouped by 'Outlet_Type' and 'Outlet_Location_Type' with a displayed .agg of both the average sales and total sales.\n",
        "round(df.groupby(['Outlet_Type','Outlet_Location_Type'])['Item_Outlet_Sales'].agg(['sum', 'mean']).rename(columns = {'sum':'Total Sales', 'mean':'Average Sales'}),2)"
      ],
      "metadata": {
        "id": "-wnJcbNWjmO5",
        "outputId": "4fbf901d-ee7a-4846-b6bf-483d952cbb23",
        "colab": {
          "base_uri": "https://localhost:8080/",
          "height": 269
        }
      },
      "execution_count": 34,
      "outputs": [
        {
          "output_type": "execute_result",
          "data": {
            "text/plain": [
              "                                        Total Sales  Average Sales\n",
              "Outlet_Type       Outlet_Location_Type                            \n",
              "Grocery Store     Tier 1                  368034.27         339.83\n",
              "Supermarket Type1 Tier 1                 4302364.98        2313.10\n",
              "                  Tier 2                 6472313.71        2323.99\n",
              "                  Tier 3                 2142663.58        2299.00\n",
              "Supermarket Type2 Tier 3                 1851822.83        1995.50\n",
              "Supermarket Type3 Tier 3                 3453926.05        3694.04"
            ],
            "text/html": [
              "\n",
              "  <div id=\"df-d318943b-b254-486c-a27b-ada82dd3ca7c\">\n",
              "    <div class=\"colab-df-container\">\n",
              "      <div>\n",
              "<style scoped>\n",
              "    .dataframe tbody tr th:only-of-type {\n",
              "        vertical-align: middle;\n",
              "    }\n",
              "\n",
              "    .dataframe tbody tr th {\n",
              "        vertical-align: top;\n",
              "    }\n",
              "\n",
              "    .dataframe thead th {\n",
              "        text-align: right;\n",
              "    }\n",
              "</style>\n",
              "<table border=\"1\" class=\"dataframe\">\n",
              "  <thead>\n",
              "    <tr style=\"text-align: right;\">\n",
              "      <th></th>\n",
              "      <th></th>\n",
              "      <th>Total Sales</th>\n",
              "      <th>Average Sales</th>\n",
              "    </tr>\n",
              "    <tr>\n",
              "      <th>Outlet_Type</th>\n",
              "      <th>Outlet_Location_Type</th>\n",
              "      <th></th>\n",
              "      <th></th>\n",
              "    </tr>\n",
              "  </thead>\n",
              "  <tbody>\n",
              "    <tr>\n",
              "      <th>Grocery Store</th>\n",
              "      <th>Tier 1</th>\n",
              "      <td>368034.27</td>\n",
              "      <td>339.83</td>\n",
              "    </tr>\n",
              "    <tr>\n",
              "      <th rowspan=\"3\" valign=\"top\">Supermarket Type1</th>\n",
              "      <th>Tier 1</th>\n",
              "      <td>4302364.98</td>\n",
              "      <td>2313.10</td>\n",
              "    </tr>\n",
              "    <tr>\n",
              "      <th>Tier 2</th>\n",
              "      <td>6472313.71</td>\n",
              "      <td>2323.99</td>\n",
              "    </tr>\n",
              "    <tr>\n",
              "      <th>Tier 3</th>\n",
              "      <td>2142663.58</td>\n",
              "      <td>2299.00</td>\n",
              "    </tr>\n",
              "    <tr>\n",
              "      <th>Supermarket Type2</th>\n",
              "      <th>Tier 3</th>\n",
              "      <td>1851822.83</td>\n",
              "      <td>1995.50</td>\n",
              "    </tr>\n",
              "    <tr>\n",
              "      <th>Supermarket Type3</th>\n",
              "      <th>Tier 3</th>\n",
              "      <td>3453926.05</td>\n",
              "      <td>3694.04</td>\n",
              "    </tr>\n",
              "  </tbody>\n",
              "</table>\n",
              "</div>\n",
              "      <button class=\"colab-df-convert\" onclick=\"convertToInteractive('df-d318943b-b254-486c-a27b-ada82dd3ca7c')\"\n",
              "              title=\"Convert this dataframe to an interactive table.\"\n",
              "              style=\"display:none;\">\n",
              "        \n",
              "  <svg xmlns=\"http://www.w3.org/2000/svg\" height=\"24px\"viewBox=\"0 0 24 24\"\n",
              "       width=\"24px\">\n",
              "    <path d=\"M0 0h24v24H0V0z\" fill=\"none\"/>\n",
              "    <path d=\"M18.56 5.44l.94 2.06.94-2.06 2.06-.94-2.06-.94-.94-2.06-.94 2.06-2.06.94zm-11 1L8.5 8.5l.94-2.06 2.06-.94-2.06-.94L8.5 2.5l-.94 2.06-2.06.94zm10 10l.94 2.06.94-2.06 2.06-.94-2.06-.94-.94-2.06-.94 2.06-2.06.94z\"/><path d=\"M17.41 7.96l-1.37-1.37c-.4-.4-.92-.59-1.43-.59-.52 0-1.04.2-1.43.59L10.3 9.45l-7.72 7.72c-.78.78-.78 2.05 0 2.83L4 21.41c.39.39.9.59 1.41.59.51 0 1.02-.2 1.41-.59l7.78-7.78 2.81-2.81c.8-.78.8-2.07 0-2.86zM5.41 20L4 18.59l7.72-7.72 1.47 1.35L5.41 20z\"/>\n",
              "  </svg>\n",
              "      </button>\n",
              "      \n",
              "  <style>\n",
              "    .colab-df-container {\n",
              "      display:flex;\n",
              "      flex-wrap:wrap;\n",
              "      gap: 12px;\n",
              "    }\n",
              "\n",
              "    .colab-df-convert {\n",
              "      background-color: #E8F0FE;\n",
              "      border: none;\n",
              "      border-radius: 50%;\n",
              "      cursor: pointer;\n",
              "      display: none;\n",
              "      fill: #1967D2;\n",
              "      height: 32px;\n",
              "      padding: 0 0 0 0;\n",
              "      width: 32px;\n",
              "    }\n",
              "\n",
              "    .colab-df-convert:hover {\n",
              "      background-color: #E2EBFA;\n",
              "      box-shadow: 0px 1px 2px rgba(60, 64, 67, 0.3), 0px 1px 3px 1px rgba(60, 64, 67, 0.15);\n",
              "      fill: #174EA6;\n",
              "    }\n",
              "\n",
              "    [theme=dark] .colab-df-convert {\n",
              "      background-color: #3B4455;\n",
              "      fill: #D2E3FC;\n",
              "    }\n",
              "\n",
              "    [theme=dark] .colab-df-convert:hover {\n",
              "      background-color: #434B5C;\n",
              "      box-shadow: 0px 1px 3px 1px rgba(0, 0, 0, 0.15);\n",
              "      filter: drop-shadow(0px 1px 2px rgba(0, 0, 0, 0.3));\n",
              "      fill: #FFFFFF;\n",
              "    }\n",
              "  </style>\n",
              "\n",
              "      <script>\n",
              "        const buttonEl =\n",
              "          document.querySelector('#df-d318943b-b254-486c-a27b-ada82dd3ca7c button.colab-df-convert');\n",
              "        buttonEl.style.display =\n",
              "          google.colab.kernel.accessAllowed ? 'block' : 'none';\n",
              "\n",
              "        async function convertToInteractive(key) {\n",
              "          const element = document.querySelector('#df-d318943b-b254-486c-a27b-ada82dd3ca7c');\n",
              "          const dataTable =\n",
              "            await google.colab.kernel.invokeFunction('convertToInteractive',\n",
              "                                                     [key], {});\n",
              "          if (!dataTable) return;\n",
              "\n",
              "          const docLinkHtml = 'Like what you see? Visit the ' +\n",
              "            '<a target=\"_blank\" href=https://colab.research.google.com/notebooks/data_table.ipynb>data table notebook</a>'\n",
              "            + ' to learn more about interactive tables.';\n",
              "          element.innerHTML = '';\n",
              "          dataTable['output_type'] = 'display_data';\n",
              "          await google.colab.output.renderOutput(dataTable, element);\n",
              "          const docLink = document.createElement('div');\n",
              "          docLink.innerHTML = docLinkHtml;\n",
              "          element.appendChild(docLink);\n",
              "        }\n",
              "      </script>\n",
              "    </div>\n",
              "  </div>\n",
              "  "
            ]
          },
          "metadata": {},
          "execution_count": 34
        }
      ]
    },
    {
      "cell_type": "markdown",
      "source": [
        "- The sales information provides no relevant insights.\n",
        "- Without a SME to provide additional information on the matter, it is safe to assume that all Supermarket Type1 Tier 2 outlets have an `Outlet_Size` of Small."
      ],
      "metadata": {
        "id": "05FAo_CxkA-E"
      }
    },
    {
      "cell_type": "code",
      "source": [
        "# Update null values with 'Small' with the Outlet_Type 'Supermarket Type1'\n",
        "df.loc[store_filter2 & (df['Outlet_Size'].isnull()), 'Outlet_Size'] = 'Small'\n",
        "df[store_filter]['Outlet_Size'].isna().sum()"
      ],
      "metadata": {
        "id": "eef9g7_5kV6j",
        "outputId": "31daf2a8-e9a4-4e43-d70a-c0a88d82b300",
        "colab": {
          "base_uri": "https://localhost:8080/"
        }
      },
      "execution_count": 35,
      "outputs": [
        {
          "output_type": "execute_result",
          "data": {
            "text/plain": [
              "0"
            ]
          },
          "metadata": {},
          "execution_count": 35
        }
      ]
    },
    {
      "cell_type": "markdown",
      "source": [
        "- Missing values in `Outlet_Size` of Supermarket Type1 have been imputed."
      ],
      "metadata": {
        "id": "3hvC9pd1km3l"
      }
    },
    {
      "cell_type": "markdown",
      "source": [
        "---"
      ],
      "metadata": {
        "id": "m0na3b_wkchc"
      }
    },
    {
      "cell_type": "code",
      "source": [
        "plt.figure(figsize = (12, 6))\n",
        "\n",
        "sns.violinplot(data=df.sort_values(by=['Outlet_Size'], ascending = False), x='Outlet_Size',y='Item_Outlet_Sales')\n",
        "\n",
        "plt.title('Outlet Type vs Outlet Sales', fontsize = 22, weight='bold')\n",
        "plt.xlabel('Outlet Type', fontsize = 16, weight='bold')\n",
        "plt.ylabel('Item Outlet Sales', fontsize = 16, weight='bold');\n",
        "plt.xticks(fontsize = 10, weight='bold', rotation=90)\n",
        "plt.yticks(fontsize = 10, weight='bold');\n",
        "\n",
        "plt.tight_layout()\n",
        "plt.show;"
      ],
      "metadata": {
        "id": "tCTOs9z0MjMo",
        "outputId": "998f76c3-7391-42ec-a703-c048acc87797",
        "colab": {
          "base_uri": "https://localhost:8080/",
          "height": 441
        }
      },
      "execution_count": 31,
      "outputs": [
        {
          "output_type": "display_data",
          "data": {
            "text/plain": [
              "<Figure size 864x432 with 1 Axes>"
            ],
            "image/png": "[encoded data removed]"
          },
          "metadata": {
            "needs_background": "light"
          }
        }
      ]
    },
    {
      "cell_type": "code",
      "source": [
        "plt.figure(figsize = (12, 6))\n",
        "\n",
        "sns.violinplot(data=df.sort_values(by=['Outlet_Type']), x='Outlet_Type',y='Item_Outlet_Sales')\n",
        "\n",
        "plt.title('Outlet Type vs Outlet Sales', fontsize = 22, weight='bold')\n",
        "plt.xlabel('Outlet Type', fontsize = 16, weight='bold')\n",
        "plt.ylabel('Item Outlet Sales', fontsize = 16, weight='bold');\n",
        "plt.xticks(fontsize = 10, weight='bold', rotation=90)\n",
        "plt.yticks(fontsize = 10, weight='bold');\n",
        "\n",
        "plt.tight_layout()\n",
        "plt.show;"
      ],
      "metadata": {
        "id": "xkoEqk3uBVq7",
        "outputId": "7c4239ce-7331-421e-e1de-e5ca1fa55e79",
        "colab": {
          "base_uri": "https://localhost:8080/",
          "height": 441
        }
      },
      "execution_count": 32,
      "outputs": [
        {
          "output_type": "display_data",
          "data": {
            "text/plain": [
              "<Figure size 864x432 with 1 Axes>"
            ],
            "image/png": "[encoded data removed]"
          },
          "metadata": {
            "needs_background": "light"
          }
        }
      ]
    },
    {
      "cell_type": "code",
      "source": [
        "plt.figure(figsize = (12, 8))\n",
        "\n",
        "sns.violinplot(data=df.sort_values(by=['Outlet_Location_Type']), x='Outlet_Location_Type',y='Item_Outlet_Sales')\n",
        "\n",
        "plt.title('Outlet Location Type vs Outlet Sales', fontsize = 22, weight='bold')\n",
        "plt.xlabel('Outlet Location Type', fontsize = 16, weight='bold')\n",
        "plt.ylabel('Item Outlet Sales', fontsize = 16, weight='bold');\n",
        "plt.xticks(fontsize = 10, weight='bold', rotation=0)\n",
        "plt.yticks(fontsize = 10, weight='bold');\n",
        "\n",
        "plt.tight_layout()\n",
        "plt.show;"
      ],
      "metadata": {
        "id": "UEWNWX3DCuNK",
        "outputId": "3ae4567c-b1c1-4e39-988f-293e75caa2f7",
        "colab": {
          "base_uri": "https://localhost:8080/",
          "height": 585
        }
      },
      "execution_count": 33,
      "outputs": [
        {
          "output_type": "display_data",
          "data": {
            "text/plain": [
              "<Figure size 864x576 with 1 Axes>"
            ],
            "image/png": "[encoded data removed]"
          },
          "metadata": {
            "needs_background": "light"
          }
        }
      ]
    },
    {
      "cell_type": "markdown",
      "source": [
        "### 6. Confirm that there are no missing values after addressing them."
      ],
      "metadata": {
        "id": "WQeJPcNMoQ7P"
      }
    },
    {
      "cell_type": "markdown",
      "source": [
        "Using `df.isna().sum()` we will count up the total number of rows missing information from each column."
      ],
      "metadata": {
        "id": "vFPuJfL9V-6d"
      }
    },
    {
      "cell_type": "code",
      "source": [
        "# Identify missing values in each column\n",
        "df.isna().sum()"
      ],
      "metadata": {
        "id": "aFwaVTv-V-T4",
        "outputId": "408f345d-65cd-45bc-853f-e1269a1bb755",
        "colab": {
          "base_uri": "https://localhost:8080/"
        }
      },
      "execution_count": null,
      "outputs": [
        {
          "output_type": "execute_result",
          "data": {
            "text/plain": [
              "Item_Identifier              0\n",
              "Item_Weight                  0\n",
              "Item_Fat_Content             0\n",
              "Item_Visibility              0\n",
              "Item_Type                    0\n",
              "Item_MRP                     0\n",
              "Outlet_Identifier            0\n",
              "Outlet_Establishment_Year    0\n",
              "Outlet_Size                  0\n",
              "Outlet_Location_Type         0\n",
              "Outlet_Type                  0\n",
              "Item_Outlet_Sales            0\n",
              "dtype: int64"
            ]
          },
          "metadata": {},
          "execution_count": 20
        }
      ]
    },
    {
      "cell_type": "markdown",
      "source": [
        "### 7. Find and fix any inconsistent categories of data."
      ],
      "metadata": {
        "id": "PsGsRoH_oU_2"
      }
    },
    {
      "cell_type": "markdown",
      "source": [
        "We will start off by using `df.info()` to make sure the datatypes of each column make sense."
      ],
      "metadata": {
        "id": "N0yqeMlxd9Mi"
      }
    },
    {
      "cell_type": "code",
      "source": [
        "df.info()"
      ],
      "metadata": {
        "id": "JSvb8NJHb1A3",
        "outputId": "4b679bb4-aed6-4202-b5fe-fc0fac552672",
        "colab": {
          "base_uri": "https://localhost:8080/"
        }
      },
      "execution_count": null,
      "outputs": [
        {
          "output_type": "stream",
          "name": "stdout",
          "text": [
            "<class 'pandas.core.frame.DataFrame'>\n",
            "RangeIndex: 8523 entries, 0 to 8522\n",
            "Data columns (total 12 columns):\n",
            " #   Column                     Non-Null Count  Dtype  \n",
            "---  ------                     --------------  -----  \n",
            " 0   Item_Identifier            8523 non-null   object \n",
            " 1   Item_Weight                8523 non-null   float64\n",
            " 2   Item_Fat_Content           8523 non-null   object \n",
            " 3   Item_Visibility            8523 non-null   float64\n",
            " 4   Item_Type                  8523 non-null   object \n",
            " 5   Item_MRP                   8523 non-null   float64\n",
            " 6   Outlet_Identifier          8523 non-null   object \n",
            " 7   Outlet_Establishment_Year  8523 non-null   int64  \n",
            " 8   Outlet_Size                8523 non-null   object \n",
            " 9   Outlet_Location_Type       8523 non-null   object \n",
            " 10  Outlet_Type                8523 non-null   object \n",
            " 11  Item_Outlet_Sales          8523 non-null   float64\n",
            "dtypes: float64(4), int64(1), object(7)\n",
            "memory usage: 799.2+ KB\n"
          ]
        }
      ]
    },
    {
      "cell_type": "markdown",
      "source": [
        "Nothing sticks out as being out of the ordinary from our `df.info()`."
      ],
      "metadata": {
        "id": "pfy43NbbeD2V"
      }
    },
    {
      "cell_type": "markdown",
      "source": [
        "We can use `df[column].unique()` to look at the unique values present in each column. Suspect columns we should perform this on include: Item_Type, Item_Fat_Content, Outlet_Establishment_Year, Outlet_Size, Outlet_Location_Type, and Outlet_Type.\n",
        "<br>\n",
        "<br>\n",
        "We can rule out a lot of this list given that we have already looked closely at the values in previous sections, which would leave us with **'Item_Fat_Content'** and **'Outlet_Establishment_Year'**."
      ],
      "metadata": {
        "id": "Z88E4bKdeJRP"
      }
    },
    {
      "cell_type": "code",
      "source": [
        "# Find the unique values contained within the Item_Fat_Content column.\n",
        "df['Item_Fat_Content'].unique()"
      ],
      "metadata": {
        "id": "5ODscIPqdDlD",
        "outputId": "ade773f5-84b1-4126-d6c8-f45bc1547101",
        "colab": {
          "base_uri": "https://localhost:8080/"
        }
      },
      "execution_count": null,
      "outputs": [
        {
          "output_type": "execute_result",
          "data": {
            "text/plain": [
              "array(['Low Fat', 'Regular', 'low fat', 'LF', 'reg'], dtype=object)"
            ]
          },
          "metadata": {},
          "execution_count": 22
        }
      ]
    },
    {
      "cell_type": "code",
      "source": [
        "# Find the unique values contained within the Outlet_Establishment_Year column.\n",
        "df['Outlet_Establishment_Year'].unique()"
      ],
      "metadata": {
        "id": "e5rRFksTe6UZ",
        "outputId": "eb57c84b-fa1f-46b6-dad1-bb16c7397c1c",
        "colab": {
          "base_uri": "https://localhost:8080/"
        }
      },
      "execution_count": null,
      "outputs": [
        {
          "output_type": "execute_result",
          "data": {
            "text/plain": [
              "array([1999, 2009, 1998, 1987, 1985, 2002, 2007, 1997, 2004])"
            ]
          },
          "metadata": {},
          "execution_count": 23
        }
      ]
    },
    {
      "cell_type": "markdown",
      "source": [
        "We see the `Outlet_Establishment_Year` has consistent data, however `Item_Fat_Content` has multiple strings that represent the same value. We can clean this up using `df.replace()`."
      ],
      "metadata": {
        "id": "dJaM9gVzfFKd"
      }
    },
    {
      "cell_type": "code",
      "source": [
        "# Use df['Item_Fat_Content'].replace() to replace the inconsistent data\n",
        "df['Item_Fat_Content'] = df['Item_Fat_Content'].replace(['low fat', 'LF'], 'Low Fat').replace('reg','Regular')\n",
        "df['Item_Fat_Content'].unique()"
      ],
      "metadata": {
        "id": "gVvO30TGfa27",
        "outputId": "a68516b9-03fd-4a81-f313-1aefb59e89d2",
        "colab": {
          "base_uri": "https://localhost:8080/"
        }
      },
      "execution_count": null,
      "outputs": [
        {
          "output_type": "execute_result",
          "data": {
            "text/plain": [
              "array(['Low Fat', 'Regular'], dtype=object)"
            ]
          },
          "metadata": {},
          "execution_count": 24
        }
      ]
    },
    {
      "cell_type": "markdown",
      "source": [
        "### 8. For any numerical columns, obtain the summary statistics of each."
      ],
      "metadata": {
        "id": "NFizg3LKoaa1"
      }
    },
    {
      "cell_type": "markdown",
      "source": [
        "Using `df.describe()` we will summarize the statistics for each numerical column."
      ],
      "metadata": {
        "id": "619O7kXxbs5S"
      }
    },
    {
      "cell_type": "code",
      "source": [
        "# Summarizes statistics for numerical columns\n",
        "df.describe().round(2)"
      ],
      "metadata": {
        "id": "_agIGdyjbUto",
        "outputId": "1bb9de18-2957-4c58-90fd-b1d33f616a4f",
        "colab": {
          "base_uri": "https://localhost:8080/",
          "height": 300
        }
      },
      "execution_count": null,
      "outputs": [
        {
          "output_type": "execute_result",
          "data": {
            "text/plain": [
              "       Item_Weight  Item_Visibility  Item_MRP  Outlet_Establishment_Year  \\\n",
              "count      8523.00          8523.00   8523.00                    8523.00   \n",
              "mean         12.86             0.07    140.99                    1997.83   \n",
              "std           4.23             0.05     62.28                       8.37   \n",
              "min           4.56             0.00     31.29                    1985.00   \n",
              "25%           9.31             0.03     93.83                    1987.00   \n",
              "50%          12.87             0.05    143.01                    1999.00   \n",
              "75%          16.00             0.09    185.64                    2004.00   \n",
              "max          21.35             0.33    266.89                    2009.00   \n",
              "\n",
              "       Item_Outlet_Sales  \n",
              "count            8523.00  \n",
              "mean             2181.29  \n",
              "std              1706.50  \n",
              "min                33.29  \n",
              "25%               834.25  \n",
              "50%              1794.33  \n",
              "75%              3101.30  \n",
              "max             13086.96  "
            ],
            "text/html": [
              "\n",
              "  <div id=\"df-59ac8de4-8ac8-46e4-9c10-f51065680467\">\n",
              "    <div class=\"colab-df-container\">\n",
              "      <div>\n",
              "<style scoped>\n",
              "    .dataframe tbody tr th:only-of-type {\n",
              "        vertical-align: middle;\n",
              "    }\n",
              "\n",
              "    .dataframe tbody tr th {\n",
              "        vertical-align: top;\n",
              "    }\n",
              "\n",
              "    .dataframe thead th {\n",
              "        text-align: right;\n",
              "    }\n",
              "</style>\n",
              "<table border=\"1\" class=\"dataframe\">\n",
              "  <thead>\n",
              "    <tr style=\"text-align: right;\">\n",
              "      <th></th>\n",
              "      <th>Item_Weight</th>\n",
              "      <th>Item_Visibility</th>\n",
              "      <th>Item_MRP</th>\n",
              "      <th>Outlet_Establishment_Year</th>\n",
              "      <th>Item_Outlet_Sales</th>\n",
              "    </tr>\n",
              "  </thead>\n",
              "  <tbody>\n",
              "    <tr>\n",
              "      <th>count</th>\n",
              "      <td>8523.00</td>\n",
              "      <td>8523.00</td>\n",
              "      <td>8523.00</td>\n",
              "      <td>8523.00</td>\n",
              "      <td>8523.00</td>\n",
              "    </tr>\n",
              "    <tr>\n",
              "      <th>mean</th>\n",
              "      <td>12.86</td>\n",
              "      <td>0.07</td>\n",
              "      <td>140.99</td>\n",
              "      <td>1997.83</td>\n",
              "      <td>2181.29</td>\n",
              "    </tr>\n",
              "    <tr>\n",
              "      <th>std</th>\n",
              "      <td>4.23</td>\n",
              "      <td>0.05</td>\n",
              "      <td>62.28</td>\n",
              "      <td>8.37</td>\n",
              "      <td>1706.50</td>\n",
              "    </tr>\n",
              "    <tr>\n",
              "      <th>min</th>\n",
              "      <td>4.56</td>\n",
              "      <td>0.00</td>\n",
              "      <td>31.29</td>\n",
              "      <td>1985.00</td>\n",
              "      <td>33.29</td>\n",
              "    </tr>\n",
              "    <tr>\n",
              "      <th>25%</th>\n",
              "      <td>9.31</td>\n",
              "      <td>0.03</td>\n",
              "      <td>93.83</td>\n",
              "      <td>1987.00</td>\n",
              "      <td>834.25</td>\n",
              "    </tr>\n",
              "    <tr>\n",
              "      <th>50%</th>\n",
              "      <td>12.87</td>\n",
              "      <td>0.05</td>\n",
              "      <td>143.01</td>\n",
              "      <td>1999.00</td>\n",
              "      <td>1794.33</td>\n",
              "    </tr>\n",
              "    <tr>\n",
              "      <th>75%</th>\n",
              "      <td>16.00</td>\n",
              "      <td>0.09</td>\n",
              "      <td>185.64</td>\n",
              "      <td>2004.00</td>\n",
              "      <td>3101.30</td>\n",
              "    </tr>\n",
              "    <tr>\n",
              "      <th>max</th>\n",
              "      <td>21.35</td>\n",
              "      <td>0.33</td>\n",
              "      <td>266.89</td>\n",
              "      <td>2009.00</td>\n",
              "      <td>13086.96</td>\n",
              "    </tr>\n",
              "  </tbody>\n",
              "</table>\n",
              "</div>\n",
              "      <button class=\"colab-df-convert\" onclick=\"convertToInteractive('df-59ac8de4-8ac8-46e4-9c10-f51065680467')\"\n",
              "              title=\"Convert this dataframe to an interactive table.\"\n",
              "              style=\"display:none;\">\n",
              "        \n",
              "  <svg xmlns=\"http://www.w3.org/2000/svg\" height=\"24px\"viewBox=\"0 0 24 24\"\n",
              "       width=\"24px\">\n",
              "    <path d=\"M0 0h24v24H0V0z\" fill=\"none\"/>\n",
              "    <path d=\"M18.56 5.44l.94 2.06.94-2.06 2.06-.94-2.06-.94-.94-2.06-.94 2.06-2.06.94zm-11 1L8.5 8.5l.94-2.06 2.06-.94-2.06-.94L8.5 2.5l-.94 2.06-2.06.94zm10 10l.94 2.06.94-2.06 2.06-.94-2.06-.94-.94-2.06-.94 2.06-2.06.94z\"/><path d=\"M17.41 7.96l-1.37-1.37c-.4-.4-.92-.59-1.43-.59-.52 0-1.04.2-1.43.59L10.3 9.45l-7.72 7.72c-.78.78-.78 2.05 0 2.83L4 21.41c.39.39.9.59 1.41.59.51 0 1.02-.2 1.41-.59l7.78-7.78 2.81-2.81c.8-.78.8-2.07 0-2.86zM5.41 20L4 18.59l7.72-7.72 1.47 1.35L5.41 20z\"/>\n",
              "  </svg>\n",
              "      </button>\n",
              "      \n",
              "  <style>\n",
              "    .colab-df-container {\n",
              "      display:flex;\n",
              "      flex-wrap:wrap;\n",
              "      gap: 12px;\n",
              "    }\n",
              "\n",
              "    .colab-df-convert {\n",
              "      background-color: #E8F0FE;\n",
              "      border: none;\n",
              "      border-radius: 50%;\n",
              "      cursor: pointer;\n",
              "      display: none;\n",
              "      fill: #1967D2;\n",
              "      height: 32px;\n",
              "      padding: 0 0 0 0;\n",
              "      width: 32px;\n",
              "    }\n",
              "\n",
              "    .colab-df-convert:hover {\n",
              "      background-color: #E2EBFA;\n",
              "      box-shadow: 0px 1px 2px rgba(60, 64, 67, 0.3), 0px 1px 3px 1px rgba(60, 64, 67, 0.15);\n",
              "      fill: #174EA6;\n",
              "    }\n",
              "\n",
              "    [theme=dark] .colab-df-convert {\n",
              "      background-color: #3B4455;\n",
              "      fill: #D2E3FC;\n",
              "    }\n",
              "\n",
              "    [theme=dark] .colab-df-convert:hover {\n",
              "      background-color: #434B5C;\n",
              "      box-shadow: 0px 1px 3px 1px rgba(0, 0, 0, 0.15);\n",
              "      filter: drop-shadow(0px 1px 2px rgba(0, 0, 0, 0.3));\n",
              "      fill: #FFFFFF;\n",
              "    }\n",
              "  </style>\n",
              "\n",
              "      <script>\n",
              "        const buttonEl =\n",
              "          document.querySelector('#df-59ac8de4-8ac8-46e4-9c10-f51065680467 button.colab-df-convert');\n",
              "        buttonEl.style.display =\n",
              "          google.colab.kernel.accessAllowed ? 'block' : 'none';\n",
              "\n",
              "        async function convertToInteractive(key) {\n",
              "          const element = document.querySelector('#df-59ac8de4-8ac8-46e4-9c10-f51065680467');\n",
              "          const dataTable =\n",
              "            await google.colab.kernel.invokeFunction('convertToInteractive',\n",
              "                                                     [key], {});\n",
              "          if (!dataTable) return;\n",
              "\n",
              "          const docLinkHtml = 'Like what you see? Visit the ' +\n",
              "            '<a target=\"_blank\" href=https://colab.research.google.com/notebooks/data_table.ipynb>data table notebook</a>'\n",
              "            + ' to learn more about interactive tables.';\n",
              "          element.innerHTML = '';\n",
              "          dataTable['output_type'] = 'display_data';\n",
              "          await google.colab.output.renderOutput(dataTable, element);\n",
              "          const docLink = document.createElement('div');\n",
              "          docLink.innerHTML = docLinkHtml;\n",
              "          element.appendChild(docLink);\n",
              "        }\n",
              "      </script>\n",
              "    </div>\n",
              "  </div>\n",
              "  "
            ]
          },
          "metadata": {},
          "execution_count": 26
        }
      ]
    },
    {
      "cell_type": "markdown",
      "source": [
        "### Citations from Part 2\n",
        "1. Referenced [Data Science Made Simple](https://www.datasciencemadesimple.com/check-count-missing-values-pandas-python-2/) to assist with question 5.\n",
        "2. Referenced [Stack Overflow](https://stackoverflow.com/questions/53947196/groupby-class-and-count-missing-values-in-features) to assist with question 5.\n",
        "3. Referenced [Pandas API](https://pandas.pydata.org/docs/reference/api/pandas.DataFrame.rsub.html) to assist with question 5.\n",
        "4. Referenced [Pandas API](https://pandas.pydata.org/docs/reference/api/pandas.DataFrame.size.html) to assist with question 5.\n",
        "\n",
        "\n"
      ],
      "metadata": {
        "id": "iV7r-TxT2eP9"
      }
    }
  ]
}