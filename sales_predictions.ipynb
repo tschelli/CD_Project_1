{
  "nbformat": 4,
  "nbformat_minor": 0,
  "metadata": {
    "colab": {
      "provenance": [],
      "mount_file_id": "https://github.com/tschelli/food_sales_predictions/blob/main/sales_predictions.ipynb",
      "authorship_tag": "ABX9TyN3Q/D27EEtyL397hNSg3Y1",
      "include_colab_link": true
    },
    "kernelspec": {
      "name": "python3",
      "display_name": "Python 3"
    },
    "language_info": {
      "name": "python"
    }
  },
  "cells": [
    {
      "cell_type": "markdown",
      "metadata": {
        "id": "view-in-github",
        "colab_type": "text"
      },
      "source": [
        "<a href=\"https://colab.research.google.com/github/tschelli/food_sales_predictions/blob/main/sales_predictions.ipynb\" target=\"_parent\"><img src=\"https://colab.research.google.com/assets/colab-badge.svg\" alt=\"Open In Colab\"/></a>"
      ]
    },
    {
      "cell_type": "markdown",
      "source": [
        "# Food Sales Predictions Project\n",
        "Coding Dojo Data Science Project 1\n",
        "\n",
        "- Name: Tyler Schelling\n",
        "- Start Date: 9/12/2022"
      ],
      "metadata": {
        "id": "me161bNjadXl"
      }
    },
    {
      "cell_type": "markdown",
      "source": [
        "---"
      ],
      "metadata": {
        "id": "p6YmFOWRaFDl"
      }
    },
    {
      "cell_type": "markdown",
      "source": [
        "**Data Dictionary Reference:**\n",
        "\n",
        "Variable Name\t   |  Description\n",
        "-------------------|------------------\n",
        "Item_Identifier\t   |  Unique product ID\n",
        "Item_Weight\t       |  Weight of product\n",
        "Item_Fat_Content\t| Whether the product is low fat or regular\n",
        "Item_Visibility\t|The percentage of total display area of all products in a store allocated to the particular product\n",
        "Item_Type\t|The category to which the product belongs\n",
        "Item_MRP\t|Maximum Retail Price (list price) of the product\n",
        "Outlet_Identifier\t|Unique store ID\n",
        "Outlet_Establishment_Year\t|The year in which store was established\n",
        "Outlet_Size|\tThe size of the store in terms of ground area covered\n",
        "Outlet_Location_Type\t|The type of area in which the store is located\n",
        "Outlet_Type\t|Whether the outlet is a grocery store or some sort of supermarket\n",
        "Item_Outlet_Sales\t|Sales of the product in the particular store. This is the target variable to be predicted."
      ],
      "metadata": {
        "id": "jQj0fc0_aGJp"
      }
    },
    {
      "cell_type": "markdown",
      "source": [
        "## Mount Drive | Import Libraries | Load Data\n",
        "- Section last updated: 9/28/2022"
      ],
      "metadata": {
        "id": "wJEODNRWavEg"
      }
    },
    {
      "cell_type": "markdown",
      "source": [
        "### Mounting the Google drive"
      ],
      "metadata": {
        "id": "434X9ptxbDTB"
      }
    },
    {
      "cell_type": "code",
      "source": [
        "#Dataset is stored via Google drive. Mount the drive.\n",
        "from google.colab import drive\n",
        "drive.mount('/content/drive')"
      ],
      "metadata": {
        "id": "MkQLLDRMaTrn",
        "outputId": "2788fd91-1955-4b64-f12b-b7cd5c851e41",
        "colab": {
          "base_uri": "https://localhost:8080/"
        }
      },
      "execution_count": 43,
      "outputs": [
        {
          "output_type": "stream",
          "name": "stdout",
          "text": [
            "Drive already mounted at /content/drive; to attempt to forcibly remount, call drive.mount(\"/content/drive\", force_remount=True).\n"
          ]
        }
      ]
    },
    {
      "cell_type": "markdown",
      "source": [
        "### Importing Libraries"
      ],
      "metadata": {
        "id": "pvYJDgiAbL8_"
      }
    },
    {
      "cell_type": "code",
      "source": [
        "import pandas as pd\n",
        "import numpy as np\n",
        "\n",
        "import missingno as msno\n",
        "\n",
        "import matplotlib.pyplot as plt\n",
        "import seaborn as sns\n",
        "\n",
        "import math"
      ],
      "metadata": {
        "id": "OnmWhETCaWZZ"
      },
      "execution_count": 44,
      "outputs": []
    },
    {
      "cell_type": "markdown",
      "source": [
        "### Load the data\n",
        " *Note: [Original Data Source](https://datahack.analyticsvidhya.com/contest/practice-problem-big-mart-sales-iii/)*"
      ],
      "metadata": {
        "id": "VqAelgYdb09M"
      }
    },
    {
      "cell_type": "code",
      "execution_count": 45,
      "metadata": {
        "id": "HIM2Hfn7WOGs"
      },
      "outputs": [],
      "source": [
        "#Load the data and examine the dataset we will be using\n",
        "filename = '/content/drive/MyDrive/02. Life/Coding Dojo/00 Datasets/sales_predictions.csv'\n",
        "df = pd.read_csv(filename)"
      ]
    },
    {
      "cell_type": "markdown",
      "source": [
        "## Exploring and Cleaning the Data\n",
        "- Section last updated: 9/29/2022"
      ],
      "metadata": {
        "id": "adtNwRB7bXh0"
      }
    },
    {
      "cell_type": "markdown",
      "source": [
        "### Display First 5 Rows "
      ],
      "metadata": {
        "id": "fzR4LqYQeAYY"
      }
    },
    {
      "cell_type": "code",
      "source": [
        "#The .head() method will return the first 5 rows of our dataset.\n",
        "#We will use .head() to gain a quick familiarity of our dataset.\n",
        "df.head(100)"
      ],
      "metadata": {
        "id": "2IZ7x2OUd_h4",
        "outputId": "99c8fd03-eefd-458d-c7cf-e119279a32a1",
        "colab": {
          "base_uri": "https://localhost:8080/",
          "height": 424
        }
      },
      "execution_count": 46,
      "outputs": [
        {
          "output_type": "execute_result",
          "data": {
            "text/plain": [
              "   Item_Identifier  Item_Weight Item_Fat_Content  Item_Visibility  \\\n",
              "0            FDA15         9.30          Low Fat         0.016047   \n",
              "1            DRC01         5.92          Regular         0.019278   \n",
              "2            FDN15        17.50          Low Fat         0.016760   \n",
              "3            FDX07        19.20          Regular         0.000000   \n",
              "4            NCD19         8.93          Low Fat         0.000000   \n",
              "..             ...          ...              ...              ...   \n",
              "95           FDU04          NaN          Low Fat         0.009715   \n",
              "96           FDF41        12.15          Low Fat         0.131384   \n",
              "97           FDB56         8.75          Regular         0.074613   \n",
              "98           NCP18          NaN          Low Fat         0.028460   \n",
              "99           FDB56         8.75          Regular         0.074627   \n",
              "\n",
              "                Item_Type  Item_MRP Outlet_Identifier  \\\n",
              "0                   Dairy  249.8092            OUT049   \n",
              "1             Soft Drinks   48.2692            OUT018   \n",
              "2                    Meat  141.6180            OUT049   \n",
              "3   Fruits and Vegetables  182.0950            OUT010   \n",
              "4               Household   53.8614            OUT013   \n",
              "..                    ...       ...               ...   \n",
              "95           Frozen Foods  120.0414            OUT019   \n",
              "96           Frozen Foods  246.0460            OUT049   \n",
              "97  Fruits and Vegetables  187.4556            OUT035   \n",
              "98              Household  149.9708            OUT027   \n",
              "99  Fruits and Vegetables  187.8556            OUT046   \n",
              "\n",
              "    Outlet_Establishment_Year Outlet_Size Outlet_Location_Type  \\\n",
              "0                        1999      Medium               Tier 1   \n",
              "1                        2009      Medium               Tier 3   \n",
              "2                        1999      Medium               Tier 1   \n",
              "3                        1998         NaN               Tier 3   \n",
              "4                        1987        High               Tier 3   \n",
              "..                        ...         ...                  ...   \n",
              "95                       1985       Small               Tier 1   \n",
              "96                       1999      Medium               Tier 1   \n",
              "97                       2004       Small               Tier 2   \n",
              "98                       1985      Medium               Tier 3   \n",
              "99                       1997       Small               Tier 1   \n",
              "\n",
              "          Outlet_Type  Item_Outlet_Sales  \n",
              "0   Supermarket Type1          3735.1380  \n",
              "1   Supermarket Type2           443.4228  \n",
              "2   Supermarket Type1          2097.2700  \n",
              "3       Grocery Store           732.3800  \n",
              "4   Supermarket Type1           994.7052  \n",
              "..                ...                ...  \n",
              "95      Grocery Store           487.3656  \n",
              "96  Supermarket Type1          1231.7300  \n",
              "97  Supermarket Type1          3755.1120  \n",
              "98  Supermarket Type3          4363.6532  \n",
              "99  Supermarket Type1          1314.2892  \n",
              "\n",
              "[100 rows x 12 columns]"
            ],
            "text/html": [
              "\n",
              "  <div id=\"df-1a5dca34-79c2-4a75-9540-8045ca423bc9\">\n",
              "    <div class=\"colab-df-container\">\n",
              "      <div>\n",
              "<style scoped>\n",
              "    .dataframe tbody tr th:only-of-type {\n",
              "        vertical-align: middle;\n",
              "    }\n",
              "\n",
              "    .dataframe tbody tr th {\n",
              "        vertical-align: top;\n",
              "    }\n",
              "\n",
              "    .dataframe thead th {\n",
              "        text-align: right;\n",
              "    }\n",
              "</style>\n",
              "<table border=\"1\" class=\"dataframe\">\n",
              "  <thead>\n",
              "    <tr style=\"text-align: right;\">\n",
              "      <th></th>\n",
              "      <th>Item_Identifier</th>\n",
              "      <th>Item_Weight</th>\n",
              "      <th>Item_Fat_Content</th>\n",
              "      <th>Item_Visibility</th>\n",
              "      <th>Item_Type</th>\n",
              "      <th>Item_MRP</th>\n",
              "      <th>Outlet_Identifier</th>\n",
              "      <th>Outlet_Establishment_Year</th>\n",
              "      <th>Outlet_Size</th>\n",
              "      <th>Outlet_Location_Type</th>\n",
              "      <th>Outlet_Type</th>\n",
              "      <th>Item_Outlet_Sales</th>\n",
              "    </tr>\n",
              "  </thead>\n",
              "  <tbody>\n",
              "    <tr>\n",
              "      <th>0</th>\n",
              "      <td>FDA15</td>\n",
              "      <td>9.30</td>\n",
              "      <td>Low Fat</td>\n",
              "      <td>0.016047</td>\n",
              "      <td>Dairy</td>\n",
              "      <td>249.8092</td>\n",
              "      <td>OUT049</td>\n",
              "      <td>1999</td>\n",
              "      <td>Medium</td>\n",
              "      <td>Tier 1</td>\n",
              "      <td>Supermarket Type1</td>\n",
              "      <td>3735.1380</td>\n",
              "    </tr>\n",
              "    <tr>\n",
              "      <th>1</th>\n",
              "      <td>DRC01</td>\n",
              "      <td>5.92</td>\n",
              "      <td>Regular</td>\n",
              "      <td>0.019278</td>\n",
              "      <td>Soft Drinks</td>\n",
              "      <td>48.2692</td>\n",
              "      <td>OUT018</td>\n",
              "      <td>2009</td>\n",
              "      <td>Medium</td>\n",
              "      <td>Tier 3</td>\n",
              "      <td>Supermarket Type2</td>\n",
              "      <td>443.4228</td>\n",
              "    </tr>\n",
              "    <tr>\n",
              "      <th>2</th>\n",
              "      <td>FDN15</td>\n",
              "      <td>17.50</td>\n",
              "      <td>Low Fat</td>\n",
              "      <td>0.016760</td>\n",
              "      <td>Meat</td>\n",
              "      <td>141.6180</td>\n",
              "      <td>OUT049</td>\n",
              "      <td>1999</td>\n",
              "      <td>Medium</td>\n",
              "      <td>Tier 1</td>\n",
              "      <td>Supermarket Type1</td>\n",
              "      <td>2097.2700</td>\n",
              "    </tr>\n",
              "    <tr>\n",
              "      <th>3</th>\n",
              "      <td>FDX07</td>\n",
              "      <td>19.20</td>\n",
              "      <td>Regular</td>\n",
              "      <td>0.000000</td>\n",
              "      <td>Fruits and Vegetables</td>\n",
              "      <td>182.0950</td>\n",
              "      <td>OUT010</td>\n",
              "      <td>1998</td>\n",
              "      <td>NaN</td>\n",
              "      <td>Tier 3</td>\n",
              "      <td>Grocery Store</td>\n",
              "      <td>732.3800</td>\n",
              "    </tr>\n",
              "    <tr>\n",
              "      <th>4</th>\n",
              "      <td>NCD19</td>\n",
              "      <td>8.93</td>\n",
              "      <td>Low Fat</td>\n",
              "      <td>0.000000</td>\n",
              "      <td>Household</td>\n",
              "      <td>53.8614</td>\n",
              "      <td>OUT013</td>\n",
              "      <td>1987</td>\n",
              "      <td>High</td>\n",
              "      <td>Tier 3</td>\n",
              "      <td>Supermarket Type1</td>\n",
              "      <td>994.7052</td>\n",
              "    </tr>\n",
              "    <tr>\n",
              "      <th>...</th>\n",
              "      <td>...</td>\n",
              "      <td>...</td>\n",
              "      <td>...</td>\n",
              "      <td>...</td>\n",
              "      <td>...</td>\n",
              "      <td>...</td>\n",
              "      <td>...</td>\n",
              "      <td>...</td>\n",
              "      <td>...</td>\n",
              "      <td>...</td>\n",
              "      <td>...</td>\n",
              "      <td>...</td>\n",
              "    </tr>\n",
              "    <tr>\n",
              "      <th>95</th>\n",
              "      <td>FDU04</td>\n",
              "      <td>NaN</td>\n",
              "      <td>Low Fat</td>\n",
              "      <td>0.009715</td>\n",
              "      <td>Frozen Foods</td>\n",
              "      <td>120.0414</td>\n",
              "      <td>OUT019</td>\n",
              "      <td>1985</td>\n",
              "      <td>Small</td>\n",
              "      <td>Tier 1</td>\n",
              "      <td>Grocery Store</td>\n",
              "      <td>487.3656</td>\n",
              "    </tr>\n",
              "    <tr>\n",
              "      <th>96</th>\n",
              "      <td>FDF41</td>\n",
              "      <td>12.15</td>\n",
              "      <td>Low Fat</td>\n",
              "      <td>0.131384</td>\n",
              "      <td>Frozen Foods</td>\n",
              "      <td>246.0460</td>\n",
              "      <td>OUT049</td>\n",
              "      <td>1999</td>\n",
              "      <td>Medium</td>\n",
              "      <td>Tier 1</td>\n",
              "      <td>Supermarket Type1</td>\n",
              "      <td>1231.7300</td>\n",
              "    </tr>\n",
              "    <tr>\n",
              "      <th>97</th>\n",
              "      <td>FDB56</td>\n",
              "      <td>8.75</td>\n",
              "      <td>Regular</td>\n",
              "      <td>0.074613</td>\n",
              "      <td>Fruits and Vegetables</td>\n",
              "      <td>187.4556</td>\n",
              "      <td>OUT035</td>\n",
              "      <td>2004</td>\n",
              "      <td>Small</td>\n",
              "      <td>Tier 2</td>\n",
              "      <td>Supermarket Type1</td>\n",
              "      <td>3755.1120</td>\n",
              "    </tr>\n",
              "    <tr>\n",
              "      <th>98</th>\n",
              "      <td>NCP18</td>\n",
              "      <td>NaN</td>\n",
              "      <td>Low Fat</td>\n",
              "      <td>0.028460</td>\n",
              "      <td>Household</td>\n",
              "      <td>149.9708</td>\n",
              "      <td>OUT027</td>\n",
              "      <td>1985</td>\n",
              "      <td>Medium</td>\n",
              "      <td>Tier 3</td>\n",
              "      <td>Supermarket Type3</td>\n",
              "      <td>4363.6532</td>\n",
              "    </tr>\n",
              "    <tr>\n",
              "      <th>99</th>\n",
              "      <td>FDB56</td>\n",
              "      <td>8.75</td>\n",
              "      <td>Regular</td>\n",
              "      <td>0.074627</td>\n",
              "      <td>Fruits and Vegetables</td>\n",
              "      <td>187.8556</td>\n",
              "      <td>OUT046</td>\n",
              "      <td>1997</td>\n",
              "      <td>Small</td>\n",
              "      <td>Tier 1</td>\n",
              "      <td>Supermarket Type1</td>\n",
              "      <td>1314.2892</td>\n",
              "    </tr>\n",
              "  </tbody>\n",
              "</table>\n",
              "<p>100 rows × 12 columns</p>\n",
              "</div>\n",
              "      <button class=\"colab-df-convert\" onclick=\"convertToInteractive('df-1a5dca34-79c2-4a75-9540-8045ca423bc9')\"\n",
              "              title=\"Convert this dataframe to an interactive table.\"\n",
              "              style=\"display:none;\">\n",
              "        \n",
              "  <svg xmlns=\"http://www.w3.org/2000/svg\" height=\"24px\"viewBox=\"0 0 24 24\"\n",
              "       width=\"24px\">\n",
              "    <path d=\"M0 0h24v24H0V0z\" fill=\"none\"/>\n",
              "    <path d=\"M18.56 5.44l.94 2.06.94-2.06 2.06-.94-2.06-.94-.94-2.06-.94 2.06-2.06.94zm-11 1L8.5 8.5l.94-2.06 2.06-.94-2.06-.94L8.5 2.5l-.94 2.06-2.06.94zm10 10l.94 2.06.94-2.06 2.06-.94-2.06-.94-.94-2.06-.94 2.06-2.06.94z\"/><path d=\"M17.41 7.96l-1.37-1.37c-.4-.4-.92-.59-1.43-.59-.52 0-1.04.2-1.43.59L10.3 9.45l-7.72 7.72c-.78.78-.78 2.05 0 2.83L4 21.41c.39.39.9.59 1.41.59.51 0 1.02-.2 1.41-.59l7.78-7.78 2.81-2.81c.8-.78.8-2.07 0-2.86zM5.41 20L4 18.59l7.72-7.72 1.47 1.35L5.41 20z\"/>\n",
              "  </svg>\n",
              "      </button>\n",
              "      \n",
              "  <style>\n",
              "    .colab-df-container {\n",
              "      display:flex;\n",
              "      flex-wrap:wrap;\n",
              "      gap: 12px;\n",
              "    }\n",
              "\n",
              "    .colab-df-convert {\n",
              "      background-color: #E8F0FE;\n",
              "      border: none;\n",
              "      border-radius: 50%;\n",
              "      cursor: pointer;\n",
              "      display: none;\n",
              "      fill: #1967D2;\n",
              "      height: 32px;\n",
              "      padding: 0 0 0 0;\n",
              "      width: 32px;\n",
              "    }\n",
              "\n",
              "    .colab-df-convert:hover {\n",
              "      background-color: #E2EBFA;\n",
              "      box-shadow: 0px 1px 2px rgba(60, 64, 67, 0.3), 0px 1px 3px 1px rgba(60, 64, 67, 0.15);\n",
              "      fill: #174EA6;\n",
              "    }\n",
              "\n",
              "    [theme=dark] .colab-df-convert {\n",
              "      background-color: #3B4455;\n",
              "      fill: #D2E3FC;\n",
              "    }\n",
              "\n",
              "    [theme=dark] .colab-df-convert:hover {\n",
              "      background-color: #434B5C;\n",
              "      box-shadow: 0px 1px 3px 1px rgba(0, 0, 0, 0.15);\n",
              "      filter: drop-shadow(0px 1px 2px rgba(0, 0, 0, 0.3));\n",
              "      fill: #FFFFFF;\n",
              "    }\n",
              "  </style>\n",
              "\n",
              "      <script>\n",
              "        const buttonEl =\n",
              "          document.querySelector('#df-1a5dca34-79c2-4a75-9540-8045ca423bc9 button.colab-df-convert');\n",
              "        buttonEl.style.display =\n",
              "          google.colab.kernel.accessAllowed ? 'block' : 'none';\n",
              "\n",
              "        async function convertToInteractive(key) {\n",
              "          const element = document.querySelector('#df-1a5dca34-79c2-4a75-9540-8045ca423bc9');\n",
              "          const dataTable =\n",
              "            await google.colab.kernel.invokeFunction('convertToInteractive',\n",
              "                                                     [key], {});\n",
              "          if (!dataTable) return;\n",
              "\n",
              "          const docLinkHtml = 'Like what you see? Visit the ' +\n",
              "            '<a target=\"_blank\" href=https://colab.research.google.com/notebooks/data_table.ipynb>data table notebook</a>'\n",
              "            + ' to learn more about interactive tables.';\n",
              "          element.innerHTML = '';\n",
              "          dataTable['output_type'] = 'display_data';\n",
              "          await google.colab.output.renderOutput(dataTable, element);\n",
              "          const docLink = document.createElement('div');\n",
              "          docLink.innerHTML = docLinkHtml;\n",
              "          element.appendChild(docLink);\n",
              "        }\n",
              "      </script>\n",
              "    </div>\n",
              "  </div>\n",
              "  "
            ]
          },
          "metadata": {},
          "execution_count": 46
        }
      ]
    },
    {
      "cell_type": "markdown",
      "source": [
        "- Data appears to have been loaded correctly."
      ],
      "metadata": {
        "id": "ClsAfjc2e9Wp"
      }
    },
    {
      "cell_type": "markdown",
      "source": [
        "### Display Dataframe Info"
      ],
      "metadata": {
        "id": "G5hLX99qenk4"
      }
    },
    {
      "cell_type": "code",
      "source": [
        "#The .info() method will print a concise summary of the Dataframe.\n",
        "#This method includes information on the index dtype and columns, non-null values and memory usage.\n",
        "df.info()"
      ],
      "metadata": {
        "id": "X4GaXVk7em3e",
        "outputId": "5ecd980b-c4b2-4779-920b-3c9f4b7a90cd",
        "colab": {
          "base_uri": "https://localhost:8080/"
        }
      },
      "execution_count": 47,
      "outputs": [
        {
          "output_type": "stream",
          "name": "stdout",
          "text": [
            "<class 'pandas.core.frame.DataFrame'>\n",
            "RangeIndex: 8523 entries, 0 to 8522\n",
            "Data columns (total 12 columns):\n",
            " #   Column                     Non-Null Count  Dtype  \n",
            "---  ------                     --------------  -----  \n",
            " 0   Item_Identifier            8523 non-null   object \n",
            " 1   Item_Weight                7060 non-null   float64\n",
            " 2   Item_Fat_Content           8523 non-null   object \n",
            " 3   Item_Visibility            8523 non-null   float64\n",
            " 4   Item_Type                  8523 non-null   object \n",
            " 5   Item_MRP                   8523 non-null   float64\n",
            " 6   Outlet_Identifier          8523 non-null   object \n",
            " 7   Outlet_Establishment_Year  8523 non-null   int64  \n",
            " 8   Outlet_Size                6113 non-null   object \n",
            " 9   Outlet_Location_Type       8523 non-null   object \n",
            " 10  Outlet_Type                8523 non-null   object \n",
            " 11  Item_Outlet_Sales          8523 non-null   float64\n",
            "dtypes: float64(4), int64(1), object(7)\n",
            "memory usage: 799.2+ KB\n"
          ]
        }
      ]
    },
    {
      "cell_type": "markdown",
      "source": [
        "### 1. How many rows and columns are in the dataframe?"
      ],
      "metadata": {
        "id": "Zvk3tmtGcA2-"
      }
    },
    {
      "cell_type": "code",
      "source": [
        "#The .shape attribute returns the dimensions of the Dataframe in a tuple (rows, columns).\n",
        "df.shape\n",
        "print(f'The dataset contains {df.shape[0]} rows and {df.shape[1]} columns.')"
      ],
      "metadata": {
        "id": "0IX0n-KobdSs",
        "outputId": "21ca3830-339a-415e-c10d-1d1f9c75872d",
        "colab": {
          "base_uri": "https://localhost:8080/"
        }
      },
      "execution_count": 48,
      "outputs": [
        {
          "output_type": "stream",
          "name": "stdout",
          "text": [
            "The dataset contains 8523 rows and 12 columns.\n"
          ]
        }
      ]
    },
    {
      "cell_type": "markdown",
      "source": [
        "### 2. What are the datatypes of each variable?"
      ],
      "metadata": {
        "id": "H91Q5m0In5A4"
      }
    },
    {
      "cell_type": "code",
      "source": [
        "#The .dtypes attribute returns a Series with the data type of each column.\n",
        "df.dtypes"
      ],
      "metadata": {
        "id": "ph-TwuwGpEmi",
        "outputId": "e0425af8-b74c-469a-d488-6abbfe906c7c",
        "colab": {
          "base_uri": "https://localhost:8080/"
        }
      },
      "execution_count": 49,
      "outputs": [
        {
          "output_type": "execute_result",
          "data": {
            "text/plain": [
              "Item_Identifier               object\n",
              "Item_Weight                  float64\n",
              "Item_Fat_Content              object\n",
              "Item_Visibility              float64\n",
              "Item_Type                     object\n",
              "Item_MRP                     float64\n",
              "Outlet_Identifier             object\n",
              "Outlet_Establishment_Year      int64\n",
              "Outlet_Size                   object\n",
              "Outlet_Location_Type          object\n",
              "Outlet_Type                   object\n",
              "Item_Outlet_Sales            float64\n",
              "dtype: object"
            ]
          },
          "metadata": {},
          "execution_count": 49
        }
      ]
    },
    {
      "cell_type": "markdown",
      "source": [
        "- Across each column, no inconsistent datatypes were found. "
      ],
      "metadata": {
        "id": "q8lz3gHHcysO"
      }
    },
    {
      "cell_type": "markdown",
      "source": [
        "### 3. Are there duplicates? If so, drop any duplicates."
      ],
      "metadata": {
        "id": "d15gC5ien8v8"
      }
    },
    {
      "cell_type": "code",
      "source": [
        "#The .duplicated() method returns a boolean Series denoting duplicate rows\n",
        "#Using .sum(), we can sum the 'True's that were returned for each duplicated row\n",
        "df.duplicated().sum()"
      ],
      "metadata": {
        "id": "4DMvCgMwpjLk",
        "outputId": "e6acbe85-206a-420d-b374-7d8b81148946",
        "colab": {
          "base_uri": "https://localhost:8080/"
        }
      },
      "execution_count": 50,
      "outputs": [
        {
          "output_type": "execute_result",
          "data": {
            "text/plain": [
              "0"
            ]
          },
          "metadata": {},
          "execution_count": 50
        }
      ]
    },
    {
      "cell_type": "markdown",
      "source": [
        "- No duplicated rows were found in our data.\n",
        "- If duplicates were present, we would use `df.drop_duplicates(keep='first', inplace= True)` to drop them from our dataset."
      ],
      "metadata": {
        "id": "_0JzeKSDqqM9"
      }
    },
    {
      "cell_type": "markdown",
      "source": [
        "### 4. Identify missing values."
      ],
      "metadata": {
        "id": "pnTKjmZEoAq1"
      }
    },
    {
      "cell_type": "code",
      "source": [
        "#The .isna() method detects missing values. It will return a boolean same-sized object indicating if the values are NA.\n",
        "#Using .sum(), we can sum the 'True's that are returned for missing values in each column.\n",
        "df.isna().sum()"
      ],
      "metadata": {
        "id": "fT-8dHDXq3II",
        "outputId": "96eb9e51-033e-471f-971d-bd6f6725ec9a",
        "colab": {
          "base_uri": "https://localhost:8080/"
        }
      },
      "execution_count": 51,
      "outputs": [
        {
          "output_type": "execute_result",
          "data": {
            "text/plain": [
              "Item_Identifier                 0\n",
              "Item_Weight                  1463\n",
              "Item_Fat_Content                0\n",
              "Item_Visibility                 0\n",
              "Item_Type                       0\n",
              "Item_MRP                        0\n",
              "Outlet_Identifier               0\n",
              "Outlet_Establishment_Year       0\n",
              "Outlet_Size                  2410\n",
              "Outlet_Location_Type            0\n",
              "Outlet_Type                     0\n",
              "Item_Outlet_Sales               0\n",
              "dtype: int64"
            ]
          },
          "metadata": {},
          "execution_count": 51
        }
      ]
    },
    {
      "cell_type": "code",
      "source": [
        "#The nullity matrix chart helps us understand the distribution of data within the whole dataset by column at the same time. \n",
        "msno.matrix(df, figsize = (15,5), fontsize = 12, color = [.27,.52,.95], sparkline = False, sort = 'descending');"
      ],
      "metadata": {
        "id": "fcV_bYecf3cT",
        "outputId": "56f1c766-9f46-4945-a432-0388b1aa0b27",
        "colab": {
          "base_uri": "https://localhost:8080/",
          "height": 442
        }
      },
      "execution_count": 52,
      "outputs": [
        {
          "output_type": "display_data",
          "data": {
            "text/plain": [
              "<Figure size 1080x360 with 1 Axes>"
            ],
            "image/png": "[encoded data removed]"
          },
          "metadata": {
            "needs_background": "light"
          }
        }
      ]
    },
    {
      "cell_type": "markdown",
      "source": [
        "We have identified that 2 columns with missing values:\n",
        "- Item_Weight has 1463 missing values\n",
        "- Outlet_Size has 2410 missing values"
      ],
      "metadata": {
        "id": "28FVy2HyrOpM"
      }
    },
    {
      "cell_type": "markdown",
      "source": [
        "### 5. Decide on how to address the missing values. Explain your judgement and choice."
      ],
      "metadata": {
        "id": "5CwPeUTXoDWY"
      }
    },
    {
      "cell_type": "markdown",
      "source": [
        "#### Item_Weight Missing Values\n",
        "\n",
        "`Item_Weight` has 1463 missing values."
      ],
      "metadata": {
        "id": "05hO7VQxK73F"
      }
    },
    {
      "cell_type": "code",
      "source": [
        "#The .isna() method will return the total count of null values in the 'Item_Weight' column by utilizing .sum()\n",
        "df['Item_Weight'].isna().sum()"
      ],
      "metadata": {
        "id": "iYB5qLgyoY96",
        "outputId": "4f5fc560-0ed4-4639-a6c0-5bd784ef888d",
        "colab": {
          "base_uri": "https://localhost:8080/"
        }
      },
      "execution_count": 116,
      "outputs": [
        {
          "output_type": "execute_result",
          "data": {
            "text/plain": [
              "1463"
            ]
          },
          "metadata": {},
          "execution_count": 116
        }
      ]
    },
    {
      "cell_type": "code",
      "source": [
        "plt.figure(figsize = (16, 8))\n",
        "\n",
        "sns.boxplot(data=df.sort_values(by = ['Item_Identifier']).head(100), x='Item_Identifier', y='Item_Weight', notch=True)\n",
        "\n",
        "plt.title('Sample Item Weight Distribution by Item Identifier', fontsize = 20, weight='bold')\n",
        "plt.xlabel('Item Identifier', fontsize = 16)\n",
        "plt.ylabel('Item Weight', fontsize = 16)\n",
        "plt.xticks(fontsize = 10, rotation=45)\n",
        "plt.yticks(fontsize = 10);\n",
        "\n",
        "plt.show;"
      ],
      "metadata": {
        "id": "3l-3pulvgJ_B",
        "outputId": "d1079a5c-da6a-42fc-babe-1591a06f9997",
        "colab": {
          "base_uri": "https://localhost:8080/",
          "height": 545
        }
      },
      "execution_count": 117,
      "outputs": [
        {
          "output_type": "display_data",
          "data": {
            "text/plain": [
              "<Figure size 1152x576 with 1 Axes>"
            ],
            "image/png": "[encoded data removed]"
          },
          "metadata": {
            "needs_background": "light"
          }
        }
      ]
    },
    {
      "cell_type": "markdown",
      "source": [
        "- Plotting out a sample of `Item_Weight`'s across `Item_Identifier`'s shows consistent `Item_Weight`'s in each `Item_Identifier` grouping."
      ],
      "metadata": {
        "id": "vKVGr9Jcji-u"
      }
    },
    {
      "cell_type": "code",
      "source": [
        "plt.figure(figsize = (16, 8))\n",
        "\n",
        "sns.boxplot(data=df, x='Item_Type', y='Item_Weight', notch=True)\n",
        "\n",
        "plt.title('Item Weight Distribution by Item Type', fontsize = 20, weight='bold')\n",
        "plt.xlabel('Item Type', fontsize = 16)\n",
        "plt.ylabel('Item Weight', fontsize = 16)\n",
        "plt.xticks(fontsize = 12, rotation=90)\n",
        "plt.yticks(fontsize = 12);\n",
        "\n",
        "plt.show;"
      ],
      "metadata": {
        "id": "XLfCfVAzdx7R",
        "outputId": "3d9fa0fc-6df1-458f-d8e2-15c79c8bd5a8",
        "colab": {
          "base_uri": "https://localhost:8080/",
          "height": 643
        }
      },
      "execution_count": 118,
      "outputs": [
        {
          "output_type": "display_data",
          "data": {
            "text/plain": [
              "<Figure size 1152x576 with 1 Axes>"
            ],
            "image/png": "[encoded data removed]"
          },
          "metadata": {
            "needs_background": "light"
          }
        }
      ]
    },
    {
      "cell_type": "markdown",
      "source": [
        "- Plotting the `Item_Weight`by `Item_Type`'s provides a visual indication of where the median of each `Item_Type` group."
      ],
      "metadata": {
        "id": "sUJvVQuKj6G6"
      }
    },
    {
      "cell_type": "code",
      "source": [
        "#Loop through the index of the Dataframe\n",
        "for ind in df.index:\n",
        "    #Create a variable to hold the Item_Identifier of the current index\n",
        "    item_id = df.loc[ind,'Item_Identifier']\n",
        "\n",
        "    #Check if the location of the Item_Weight at the index is null\n",
        "    #Create a filter to filter out only 'Item_Identifier' values equivalent to the item_id\n",
        "    #Replace the null value with the .mean() of the 'Item_Weight' for the current 'Item_Identifier'. Values across 'Item_Identifier's are consistent.\n",
        "    if df.isnull().loc[ind, 'Item_Weight']:\n",
        "        item_filter = df['Item_Identifier'] == item_id\n",
        "        df.loc[ind, 'Item_Weight'] = df[item_filter]['Item_Weight'].mean()\n",
        "\n",
        "        #Additional check for the case of the null 'Item_Weight' being the only value for the 'Item_Identifier'\n",
        "        #Create a new filter to filter out only the 'Item_Type' values of the current index.\n",
        "        #Replace the null values with the .mean() of the 'Item_Weight' for the item's 'Item_Type'\n",
        "        if math.isnan(df[item_filter]['Item_Weight'].mean()):\n",
        "            type_filter = df['Item_Type'] == df.loc[ind, 'Item_Type']\n",
        "            df.loc[ind, 'Item_Weight'] = df[type_filter]['Item_Weight'].median()"
      ],
      "metadata": {
        "id": "u0JirT8JjDIN"
      },
      "execution_count": 119,
      "outputs": []
    },
    {
      "cell_type": "markdown",
      "source": [
        "- Unique `Item_Identifier`'s have consistent `Item_Weight`'s.\n",
        "    - The logic used updates null `Item_Weight` values with it's relevant `Item_Identifier`'s `Item_Weight` value.\n",
        "- In the case that the `Item_Identifier` only had null `Item_Weight` entries, the `Item_Weight` will be filled using the median `Item_Weight` of it's `Item_Type`."
      ],
      "metadata": {
        "id": "tQf-gL2UZWoN"
      }
    },
    {
      "cell_type": "code",
      "source": [
        "df['Item_Weight'].isna().sum()"
      ],
      "metadata": {
        "id": "JZsADxFgmMlE",
        "outputId": "73490e46-0600-49b3-fd32-a946fedaffa5",
        "colab": {
          "base_uri": "https://localhost:8080/"
        }
      },
      "execution_count": 120,
      "outputs": [
        {
          "output_type": "execute_result",
          "data": {
            "text/plain": [
              "0"
            ]
          },
          "metadata": {},
          "execution_count": 120
        }
      ]
    },
    {
      "cell_type": "markdown",
      "source": [
        "- No null values in `Item_Weight` left."
      ],
      "metadata": {
        "id": "saBNYXjgcOxI"
      }
    },
    {
      "cell_type": "markdown",
      "source": [
        "#### Outlet_Size Missing Values\n",
        "**WORK IN PROGRESS**\n",
        "\n",
        "`Outlet_Size` has 2410 missing values.<sup>1</sup>\n",
        "- Out of 8523 rows, this is a significant portion of the data (28.3%).\n"
      ],
      "metadata": {
        "id": "vtSm6f5D5oIC"
      }
    },
    {
      "cell_type": "code",
      "source": [
        "#The .unique() method will return all values in the 'Outlet_Size' column.\n",
        "print(df['Outlet_Size'].unique())"
      ],
      "metadata": {
        "id": "RO4GlzmaP9jX",
        "outputId": "f07fbc77-769e-4507-e0fb-3f65d96e92b5",
        "colab": {
          "base_uri": "https://localhost:8080/"
        }
      },
      "execution_count": null,
      "outputs": [
        {
          "output_type": "stream",
          "name": "stdout",
          "text": [
            "['Medium' nan 'High' 'Small']\n"
          ]
        }
      ]
    },
    {
      "cell_type": "code",
      "source": [
        "#The .replace() method will replace 'High' with 'Large' inside the 'Outlet_Size' column in order to keep the language consistent.\n",
        "df['Outlet_Size'].replace('High', 'Large', inplace = True)\n",
        "print(df['Outlet_Size'].unique())"
      ],
      "metadata": {
        "id": "eko2meheWu76",
        "outputId": "d9eaabda-f4d6-4863-a913-ed645adf1f42",
        "colab": {
          "base_uri": "https://localhost:8080/"
        }
      },
      "execution_count": null,
      "outputs": [
        {
          "output_type": "stream",
          "name": "stdout",
          "text": [
            "['Medium' nan 'Large' 'Small']\n"
          ]
        }
      ]
    },
    {
      "cell_type": "markdown",
      "source": [
        "- For consistency in the language used, \"High\" was replaced with \"Large\"\n",
        "- `Outlet_Size` contains three unique values: Small, Medium, Large"
      ],
      "metadata": {
        "id": "Z31rUxMmWbXl"
      }
    },
    {
      "cell_type": "code",
      "source": [
        "#The .groupby() method utilizes a lambda function to find the NaN 'Outlet_Size' values grouped by 'Outlet_Type' and 'Outlet_Location_Type'. \n",
        "df.groupby(['Outlet_Type','Outlet_Location_Type'])[['Outlet_Size']].apply(lambda x: x.isnull().sum())"
      ],
      "metadata": {
        "id": "0-H0zn_cs2Pk",
        "outputId": "9bfd5d08-fc20-4ab5-c070-11ae0c1bbb62",
        "colab": {
          "base_uri": "https://localhost:8080/",
          "height": 300
        }
      },
      "execution_count": null,
      "outputs": [
        {
          "output_type": "execute_result",
          "data": {
            "text/plain": [
              "                                        Outlet_Size\n",
              "Outlet_Type       Outlet_Location_Type             \n",
              "Grocery Store     Tier 1                          0\n",
              "                  Tier 3                        555\n",
              "Supermarket Type1 Tier 1                          0\n",
              "                  Tier 2                       1855\n",
              "                  Tier 3                          0\n",
              "Supermarket Type2 Tier 3                          0\n",
              "Supermarket Type3 Tier 3                          0"
            ],
            "text/html": [
              "\n",
              "  <div id=\"df-f313690d-e337-481e-8854-697f26f4ee8a\">\n",
              "    <div class=\"colab-df-container\">\n",
              "      <div>\n",
              "<style scoped>\n",
              "    .dataframe tbody tr th:only-of-type {\n",
              "        vertical-align: middle;\n",
              "    }\n",
              "\n",
              "    .dataframe tbody tr th {\n",
              "        vertical-align: top;\n",
              "    }\n",
              "\n",
              "    .dataframe thead th {\n",
              "        text-align: right;\n",
              "    }\n",
              "</style>\n",
              "<table border=\"1\" class=\"dataframe\">\n",
              "  <thead>\n",
              "    <tr style=\"text-align: right;\">\n",
              "      <th></th>\n",
              "      <th></th>\n",
              "      <th>Outlet_Size</th>\n",
              "    </tr>\n",
              "    <tr>\n",
              "      <th>Outlet_Type</th>\n",
              "      <th>Outlet_Location_Type</th>\n",
              "      <th></th>\n",
              "    </tr>\n",
              "  </thead>\n",
              "  <tbody>\n",
              "    <tr>\n",
              "      <th rowspan=\"2\" valign=\"top\">Grocery Store</th>\n",
              "      <th>Tier 1</th>\n",
              "      <td>0</td>\n",
              "    </tr>\n",
              "    <tr>\n",
              "      <th>Tier 3</th>\n",
              "      <td>555</td>\n",
              "    </tr>\n",
              "    <tr>\n",
              "      <th rowspan=\"3\" valign=\"top\">Supermarket Type1</th>\n",
              "      <th>Tier 1</th>\n",
              "      <td>0</td>\n",
              "    </tr>\n",
              "    <tr>\n",
              "      <th>Tier 2</th>\n",
              "      <td>1855</td>\n",
              "    </tr>\n",
              "    <tr>\n",
              "      <th>Tier 3</th>\n",
              "      <td>0</td>\n",
              "    </tr>\n",
              "    <tr>\n",
              "      <th>Supermarket Type2</th>\n",
              "      <th>Tier 3</th>\n",
              "      <td>0</td>\n",
              "    </tr>\n",
              "    <tr>\n",
              "      <th>Supermarket Type3</th>\n",
              "      <th>Tier 3</th>\n",
              "      <td>0</td>\n",
              "    </tr>\n",
              "  </tbody>\n",
              "</table>\n",
              "</div>\n",
              "      <button class=\"colab-df-convert\" onclick=\"convertToInteractive('df-f313690d-e337-481e-8854-697f26f4ee8a')\"\n",
              "              title=\"Convert this dataframe to an interactive table.\"\n",
              "              style=\"display:none;\">\n",
              "        \n",
              "  <svg xmlns=\"http://www.w3.org/2000/svg\" height=\"24px\"viewBox=\"0 0 24 24\"\n",
              "       width=\"24px\">\n",
              "    <path d=\"M0 0h24v24H0V0z\" fill=\"none\"/>\n",
              "    <path d=\"M18.56 5.44l.94 2.06.94-2.06 2.06-.94-2.06-.94-.94-2.06-.94 2.06-2.06.94zm-11 1L8.5 8.5l.94-2.06 2.06-.94-2.06-.94L8.5 2.5l-.94 2.06-2.06.94zm10 10l.94 2.06.94-2.06 2.06-.94-2.06-.94-.94-2.06-.94 2.06-2.06.94z\"/><path d=\"M17.41 7.96l-1.37-1.37c-.4-.4-.92-.59-1.43-.59-.52 0-1.04.2-1.43.59L10.3 9.45l-7.72 7.72c-.78.78-.78 2.05 0 2.83L4 21.41c.39.39.9.59 1.41.59.51 0 1.02-.2 1.41-.59l7.78-7.78 2.81-2.81c.8-.78.8-2.07 0-2.86zM5.41 20L4 18.59l7.72-7.72 1.47 1.35L5.41 20z\"/>\n",
              "  </svg>\n",
              "      </button>\n",
              "      \n",
              "  <style>\n",
              "    .colab-df-container {\n",
              "      display:flex;\n",
              "      flex-wrap:wrap;\n",
              "      gap: 12px;\n",
              "    }\n",
              "\n",
              "    .colab-df-convert {\n",
              "      background-color: #E8F0FE;\n",
              "      border: none;\n",
              "      border-radius: 50%;\n",
              "      cursor: pointer;\n",
              "      display: none;\n",
              "      fill: #1967D2;\n",
              "      height: 32px;\n",
              "      padding: 0 0 0 0;\n",
              "      width: 32px;\n",
              "    }\n",
              "\n",
              "    .colab-df-convert:hover {\n",
              "      background-color: #E2EBFA;\n",
              "      box-shadow: 0px 1px 2px rgba(60, 64, 67, 0.3), 0px 1px 3px 1px rgba(60, 64, 67, 0.15);\n",
              "      fill: #174EA6;\n",
              "    }\n",
              "\n",
              "    [theme=dark] .colab-df-convert {\n",
              "      background-color: #3B4455;\n",
              "      fill: #D2E3FC;\n",
              "    }\n",
              "\n",
              "    [theme=dark] .colab-df-convert:hover {\n",
              "      background-color: #434B5C;\n",
              "      box-shadow: 0px 1px 3px 1px rgba(0, 0, 0, 0.15);\n",
              "      filter: drop-shadow(0px 1px 2px rgba(0, 0, 0, 0.3));\n",
              "      fill: #FFFFFF;\n",
              "    }\n",
              "  </style>\n",
              "\n",
              "      <script>\n",
              "        const buttonEl =\n",
              "          document.querySelector('#df-f313690d-e337-481e-8854-697f26f4ee8a button.colab-df-convert');\n",
              "        buttonEl.style.display =\n",
              "          google.colab.kernel.accessAllowed ? 'block' : 'none';\n",
              "\n",
              "        async function convertToInteractive(key) {\n",
              "          const element = document.querySelector('#df-f313690d-e337-481e-8854-697f26f4ee8a');\n",
              "          const dataTable =\n",
              "            await google.colab.kernel.invokeFunction('convertToInteractive',\n",
              "                                                     [key], {});\n",
              "          if (!dataTable) return;\n",
              "\n",
              "          const docLinkHtml = 'Like what you see? Visit the ' +\n",
              "            '<a target=\"_blank\" href=https://colab.research.google.com/notebooks/data_table.ipynb>data table notebook</a>'\n",
              "            + ' to learn more about interactive tables.';\n",
              "          element.innerHTML = '';\n",
              "          dataTable['output_type'] = 'display_data';\n",
              "          await google.colab.output.renderOutput(dataTable, element);\n",
              "          const docLink = document.createElement('div');\n",
              "          docLink.innerHTML = docLinkHtml;\n",
              "          element.appendChild(docLink);\n",
              "        }\n",
              "      </script>\n",
              "    </div>\n",
              "  </div>\n",
              "  "
            ]
          },
          "metadata": {},
          "execution_count": 79
        }
      ]
    },
    {
      "cell_type": "code",
      "source": [
        "#The .groupby() method will sum the 'Item_Outlet_Sales' values grouped by 'Outlet_Type' and 'Outlet_Location_Type' to help find any correlations between the groupings.\n",
        "df.groupby(['Outlet_Type','Outlet_Location_Type'])[['Item_Outlet_Sales']].mean().round(2)"
      ],
      "metadata": {
        "id": "gXqoNrhWSR9E",
        "outputId": "a8a8da9c-f07d-4acd-afde-794d3783dfe4",
        "colab": {
          "base_uri": "https://localhost:8080/",
          "height": 300
        }
      },
      "execution_count": null,
      "outputs": [
        {
          "output_type": "execute_result",
          "data": {
            "text/plain": [
              "                                        Item_Outlet_Sales\n",
              "Outlet_Type       Outlet_Location_Type                   \n",
              "Grocery Store     Tier 1                           340.33\n",
              "                  Tier 3                           339.35\n",
              "Supermarket Type1 Tier 1                          2313.10\n",
              "                  Tier 2                          2323.99\n",
              "                  Tier 3                          2299.00\n",
              "Supermarket Type2 Tier 3                          1995.50\n",
              "Supermarket Type3 Tier 3                          3694.04"
            ],
            "text/html": [
              "\n",
              "  <div id=\"df-c3ac20de-e7f1-418c-96bb-9a3d7c502c83\">\n",
              "    <div class=\"colab-df-container\">\n",
              "      <div>\n",
              "<style scoped>\n",
              "    .dataframe tbody tr th:only-of-type {\n",
              "        vertical-align: middle;\n",
              "    }\n",
              "\n",
              "    .dataframe tbody tr th {\n",
              "        vertical-align: top;\n",
              "    }\n",
              "\n",
              "    .dataframe thead th {\n",
              "        text-align: right;\n",
              "    }\n",
              "</style>\n",
              "<table border=\"1\" class=\"dataframe\">\n",
              "  <thead>\n",
              "    <tr style=\"text-align: right;\">\n",
              "      <th></th>\n",
              "      <th></th>\n",
              "      <th>Item_Outlet_Sales</th>\n",
              "    </tr>\n",
              "    <tr>\n",
              "      <th>Outlet_Type</th>\n",
              "      <th>Outlet_Location_Type</th>\n",
              "      <th></th>\n",
              "    </tr>\n",
              "  </thead>\n",
              "  <tbody>\n",
              "    <tr>\n",
              "      <th rowspan=\"2\" valign=\"top\">Grocery Store</th>\n",
              "      <th>Tier 1</th>\n",
              "      <td>340.33</td>\n",
              "    </tr>\n",
              "    <tr>\n",
              "      <th>Tier 3</th>\n",
              "      <td>339.35</td>\n",
              "    </tr>\n",
              "    <tr>\n",
              "      <th rowspan=\"3\" valign=\"top\">Supermarket Type1</th>\n",
              "      <th>Tier 1</th>\n",
              "      <td>2313.10</td>\n",
              "    </tr>\n",
              "    <tr>\n",
              "      <th>Tier 2</th>\n",
              "      <td>2323.99</td>\n",
              "    </tr>\n",
              "    <tr>\n",
              "      <th>Tier 3</th>\n",
              "      <td>2299.00</td>\n",
              "    </tr>\n",
              "    <tr>\n",
              "      <th>Supermarket Type2</th>\n",
              "      <th>Tier 3</th>\n",
              "      <td>1995.50</td>\n",
              "    </tr>\n",
              "    <tr>\n",
              "      <th>Supermarket Type3</th>\n",
              "      <th>Tier 3</th>\n",
              "      <td>3694.04</td>\n",
              "    </tr>\n",
              "  </tbody>\n",
              "</table>\n",
              "</div>\n",
              "      <button class=\"colab-df-convert\" onclick=\"convertToInteractive('df-c3ac20de-e7f1-418c-96bb-9a3d7c502c83')\"\n",
              "              title=\"Convert this dataframe to an interactive table.\"\n",
              "              style=\"display:none;\">\n",
              "        \n",
              "  <svg xmlns=\"http://www.w3.org/2000/svg\" height=\"24px\"viewBox=\"0 0 24 24\"\n",
              "       width=\"24px\">\n",
              "    <path d=\"M0 0h24v24H0V0z\" fill=\"none\"/>\n",
              "    <path d=\"M18.56 5.44l.94 2.06.94-2.06 2.06-.94-2.06-.94-.94-2.06-.94 2.06-2.06.94zm-11 1L8.5 8.5l.94-2.06 2.06-.94-2.06-.94L8.5 2.5l-.94 2.06-2.06.94zm10 10l.94 2.06.94-2.06 2.06-.94-2.06-.94-.94-2.06-.94 2.06-2.06.94z\"/><path d=\"M17.41 7.96l-1.37-1.37c-.4-.4-.92-.59-1.43-.59-.52 0-1.04.2-1.43.59L10.3 9.45l-7.72 7.72c-.78.78-.78 2.05 0 2.83L4 21.41c.39.39.9.59 1.41.59.51 0 1.02-.2 1.41-.59l7.78-7.78 2.81-2.81c.8-.78.8-2.07 0-2.86zM5.41 20L4 18.59l7.72-7.72 1.47 1.35L5.41 20z\"/>\n",
              "  </svg>\n",
              "      </button>\n",
              "      \n",
              "  <style>\n",
              "    .colab-df-container {\n",
              "      display:flex;\n",
              "      flex-wrap:wrap;\n",
              "      gap: 12px;\n",
              "    }\n",
              "\n",
              "    .colab-df-convert {\n",
              "      background-color: #E8F0FE;\n",
              "      border: none;\n",
              "      border-radius: 50%;\n",
              "      cursor: pointer;\n",
              "      display: none;\n",
              "      fill: #1967D2;\n",
              "      height: 32px;\n",
              "      padding: 0 0 0 0;\n",
              "      width: 32px;\n",
              "    }\n",
              "\n",
              "    .colab-df-convert:hover {\n",
              "      background-color: #E2EBFA;\n",
              "      box-shadow: 0px 1px 2px rgba(60, 64, 67, 0.3), 0px 1px 3px 1px rgba(60, 64, 67, 0.15);\n",
              "      fill: #174EA6;\n",
              "    }\n",
              "\n",
              "    [theme=dark] .colab-df-convert {\n",
              "      background-color: #3B4455;\n",
              "      fill: #D2E3FC;\n",
              "    }\n",
              "\n",
              "    [theme=dark] .colab-df-convert:hover {\n",
              "      background-color: #434B5C;\n",
              "      box-shadow: 0px 1px 3px 1px rgba(0, 0, 0, 0.15);\n",
              "      filter: drop-shadow(0px 1px 2px rgba(0, 0, 0, 0.3));\n",
              "      fill: #FFFFFF;\n",
              "    }\n",
              "  </style>\n",
              "\n",
              "      <script>\n",
              "        const buttonEl =\n",
              "          document.querySelector('#df-c3ac20de-e7f1-418c-96bb-9a3d7c502c83 button.colab-df-convert');\n",
              "        buttonEl.style.display =\n",
              "          google.colab.kernel.accessAllowed ? 'block' : 'none';\n",
              "\n",
              "        async function convertToInteractive(key) {\n",
              "          const element = document.querySelector('#df-c3ac20de-e7f1-418c-96bb-9a3d7c502c83');\n",
              "          const dataTable =\n",
              "            await google.colab.kernel.invokeFunction('convertToInteractive',\n",
              "                                                     [key], {});\n",
              "          if (!dataTable) return;\n",
              "\n",
              "          const docLinkHtml = 'Like what you see? Visit the ' +\n",
              "            '<a target=\"_blank\" href=https://colab.research.google.com/notebooks/data_table.ipynb>data table notebook</a>'\n",
              "            + ' to learn more about interactive tables.';\n",
              "          element.innerHTML = '';\n",
              "          dataTable['output_type'] = 'display_data';\n",
              "          await google.colab.output.renderOutput(dataTable, element);\n",
              "          const docLink = document.createElement('div');\n",
              "          docLink.innerHTML = docLinkHtml;\n",
              "          element.appendChild(docLink);\n",
              "        }\n",
              "      </script>\n",
              "    </div>\n",
              "  </div>\n",
              "  "
            ]
          },
          "metadata": {},
          "execution_count": 95
        }
      ]
    },
    {
      "cell_type": "code",
      "source": [
        "#The .value_counts() method will provide the counts of 'Outlet_Size' filtered by only Grocery Store 'Outlet_Type's.\n",
        "store_filter = df['Outlet_Type'] == 'Grocery Store'\n",
        "df[store_filter].value_counts('Outlet_Size')"
      ],
      "metadata": {
        "id": "EPyoAQPtVIke",
        "outputId": "2f66f7fc-cfe1-4a0e-fe5d-5749505adf3b",
        "colab": {
          "base_uri": "https://localhost:8080/"
        }
      },
      "execution_count": null,
      "outputs": [
        {
          "output_type": "execute_result",
          "data": {
            "text/plain": [
              "Outlet_Size\n",
              "Small    528\n",
              "dtype: int64"
            ]
          },
          "metadata": {},
          "execution_count": 81
        }
      ]
    },
    {
      "cell_type": "code",
      "source": [
        "# Update null values with 'Small' with the Outlet_Type 'Grocery Store'\n",
        "df.loc[store_filter & (df['Outlet_Size'].isnull()), 'Outlet_Size'] = 'Small'\n",
        "df[store_filter]['Outlet_Size'].isna().sum()"
      ],
      "metadata": {
        "id": "mDgYVN6QWXQe",
        "outputId": "9871b134-0622-489e-d186-8bf6f3692017",
        "colab": {
          "base_uri": "https://localhost:8080/"
        }
      },
      "execution_count": null,
      "outputs": [
        {
          "output_type": "execute_result",
          "data": {
            "text/plain": [
              "0"
            ]
          },
          "metadata": {},
          "execution_count": 82
        }
      ]
    },
    {
      "cell_type": "markdown",
      "source": [
        "- Grouping by `Item_Outlet_Sales`, the total sales between Tier 1 and Tier 3 Grocery Stores is only 4.7%. \n",
        "    - All Tier 3 Grocery Store's are missing an `Outlet_Size` value.\n",
        "    - All Tier 1 Grocery Store's containing values have a Small `Outlet_Size`.\n",
        "- The missing Tier 3 Grocery Store values can be imputing with the `Outlet_Size` \"Small\"."
      ],
      "metadata": {
        "id": "T3GcaBPeUZxl"
      }
    },
    {
      "cell_type": "markdown",
      "source": [
        "** Create a chart showing the distribution of sales across location type.\n",
        "\n",
        "** Look into updating outlet type and location type \n",
        "Supermarket and Grocery Store  into tiers 1-4"
      ],
      "metadata": {
        "id": "-f11_sZPhDVN"
      }
    },
    {
      "cell_type": "code",
      "source": [
        "df.groupby('Outlet_Type')['Item_Outlet_Sales'].hist(legend = True, figsize = (16,6));"
      ],
      "metadata": {
        "id": "HSstqU75rd5H",
        "outputId": "dfc55967-c08e-4a80-9308-ec893ea84b3d",
        "colab": {
          "base_uri": "https://localhost:8080/",
          "height": 374
        }
      },
      "execution_count": null,
      "outputs": [
        {
          "output_type": "display_data",
          "data": {
            "text/plain": [
              "<Figure size 1152x432 with 1 Axes>"
            ],
            "image/png": "[encoded data removed]"
          },
          "metadata": {
            "needs_background": "light"
          }
        }
      ]
    },
    {
      "cell_type": "code",
      "source": [
        "#\n",
        "df['Outlet_Location_Type'] = df.loc[df['Outlet_Type'] == 'Grocery Store', 'Outlet_Location_Type'].replace('Tier 3', 'Tier 1')\n",
        "df[store_filter]['Outlet_Location_Type'].unique()"
      ],
      "metadata": {
        "id": "Nn9b4eQyaK25",
        "outputId": "10e990ea-12d1-492e-a34c-3715daffd3ca",
        "colab": {
          "base_uri": "https://localhost:8080/"
        }
      },
      "execution_count": null,
      "outputs": [
        {
          "output_type": "execute_result",
          "data": {
            "text/plain": [
              "array(['Tier 1'], dtype=object)"
            ]
          },
          "metadata": {},
          "execution_count": 102
        }
      ]
    },
    {
      "cell_type": "markdown",
      "source": [
        "- The Tier 3 sales values in `Item_Outlet_Sales` for all 3 supermarket types also implies that the Grocery Store should not have an `Outlet_Location_Type` of Tier 3 and it can be replaced as Tier 1."
      ],
      "metadata": {
        "id": "xhEe3cvtWWyq"
      }
    },
    {
      "cell_type": "code",
      "source": [
        "df['Outlet_Size'].isna()\n",
        "#.groupby(['Outlet_Type','Outlet_Location_Type'])[['Item_Outlet_Sales']].sum().round(2))"
      ],
      "metadata": {
        "id": "8aqn1se8T27S",
        "outputId": "07ac9056-71c4-4230-f7cd-14fc88ff4cab",
        "colab": {
          "base_uri": "https://localhost:8080/"
        }
      },
      "execution_count": null,
      "outputs": [
        {
          "output_type": "execute_result",
          "data": {
            "text/plain": [
              "0       False\n",
              "1       False\n",
              "2       False\n",
              "3        True\n",
              "4       False\n",
              "        ...  \n",
              "8518    False\n",
              "8519     True\n",
              "8520    False\n",
              "8521    False\n",
              "8522    False\n",
              "Name: Outlet_Size, Length: 8523, dtype: bool"
            ]
          },
          "metadata": {},
          "execution_count": 70
        }
      ]
    },
    {
      "cell_type": "markdown",
      "source": [
        "With this data, we learn that only the following are missing values:\n",
        "- `Outlet_Type`: Grocery Store with `Outlet_Location_Type`: Tier 3 is missing 555 values\n",
        "- `Outlet_Type`: Supermarket Type 1 with `Outlet_Location_Type`: Tier 2 is missing 1855 values"
      ],
      "metadata": {
        "id": "lFVsaRpj6hbZ"
      }
    },
    {
      "cell_type": "markdown",
      "source": [
        "##### Grocery Store Missing Values"
      ],
      "metadata": {
        "id": "9gjJv4tDKrdv"
      }
    },
    {
      "cell_type": "markdown",
      "source": [
        "Starting with the Grocery Store, Tier 2 is not present in the data which makes the missing Tier 3 data more suspicious.\n",
        "\n",
        "Continuing to dig further into the Grocery Store type..."
      ],
      "metadata": {
        "id": "ChklCUsf9QVI"
      }
    },
    {
      "cell_type": "code",
      "source": [
        "# Create a store filter to find only Grocery Stores and list the Outlet_Sizes present in the data.\n",
        "store_filter = df['Outlet_Type'] == 'Grocery Store'\n",
        "df[store_filter].value_counts('Outlet_Size')"
      ],
      "metadata": {
        "id": "OVoAUrrw8vlx",
        "outputId": "2f663278-2a81-4273-c890-5cd9a13920b6",
        "colab": {
          "base_uri": "https://localhost:8080/"
        }
      },
      "execution_count": null,
      "outputs": [
        {
          "output_type": "execute_result",
          "data": {
            "text/plain": [
              "Outlet_Size\n",
              "Small    528\n",
              "dtype: int64"
            ]
          },
          "metadata": {},
          "execution_count": 9
        }
      ]
    },
    {
      "cell_type": "markdown",
      "source": [
        "We can see that the only `Outlet_Size` for Grocery Stores is 'Small'. "
      ],
      "metadata": {
        "id": "PvDL3NdI_uh1"
      }
    },
    {
      "cell_type": "code",
      "source": [
        "# Use the store filter to find the Tiers of Outlet_Location_Types present in the data.\n",
        "df[store_filter].value_counts('Outlet_Location_Type')"
      ],
      "metadata": {
        "id": "PEn4a6gV-GdR",
        "outputId": "828dc66f-4693-4e4f-e369-816e19767a0b",
        "colab": {
          "base_uri": "https://localhost:8080/"
        }
      },
      "execution_count": null,
      "outputs": [
        {
          "output_type": "execute_result",
          "data": {
            "text/plain": [
              "Outlet_Location_Type\n",
              "Tier 3    555\n",
              "Tier 1    528\n",
              "dtype: int64"
            ]
          },
          "metadata": {},
          "execution_count": 10
        }
      ]
    },
    {
      "cell_type": "markdown",
      "source": [
        "It is suspicious that outside of the missing values, only Tier 1 Grocery Stores are in our dataset. However, without further context to what the Tier's in `Outlet_Location_Type` are referencing, we will impute the 'Small' `Outlet_Size` to the missing values in that have Grocery Store as their `Outlet_Type`. \n",
        "<br>\n",
        "<br>\n",
        "We will be **not** updating the `Outlet_Location_Type` for Grocery Store's from Tier 3 to Tier 1 given the lack of understanding of the data dictionary explanation, \"The type of area in which the store is located\", even though there is no evidence of Tier 2 or 3 Grocery Store's being present in our data."
      ],
      "metadata": {
        "id": "HJf0kNfj-zFD"
      }
    },
    {
      "cell_type": "code",
      "source": [
        "# Run this first to verify the count of missing values \n",
        "df[store_filter]['Outlet_Size'].isna().sum()"
      ],
      "metadata": {
        "id": "pJKzMQtDEuDy",
        "outputId": "1e91b06b-370a-4001-f3a6-7d829752cafe",
        "colab": {
          "base_uri": "https://localhost:8080/"
        }
      },
      "execution_count": null,
      "outputs": [
        {
          "output_type": "execute_result",
          "data": {
            "text/plain": [
              "555"
            ]
          },
          "metadata": {},
          "execution_count": 11
        }
      ]
    },
    {
      "cell_type": "code",
      "source": [
        "# Update null values with 'Small' with the Outlet_Type 'Grocery Store'\n",
        "df.loc[store_filter & (df['Outlet_Size'].isnull()), 'Outlet_Size'] = 'Small'\n",
        "df[store_filter]['Outlet_Size'].isna().sum()"
      ],
      "metadata": {
        "id": "XG9GXrtpALXY",
        "outputId": "ebfdde2b-d330-4a90-f344-1e4d84546090",
        "colab": {
          "base_uri": "https://localhost:8080/"
        }
      },
      "execution_count": null,
      "outputs": [
        {
          "output_type": "execute_result",
          "data": {
            "text/plain": [
              "0"
            ]
          },
          "metadata": {},
          "execution_count": 12
        }
      ]
    },
    {
      "cell_type": "markdown",
      "source": [
        "##### Supermarket Type 1 Missing Values"
      ],
      "metadata": {
        "id": "Aronuix4KwkP"
      }
    },
    {
      "cell_type": "markdown",
      "source": [
        "We successfully updated the `Outlet_Size` for the missing values of Grocery Stores, now to move on to the Supermarket Type 1."
      ],
      "metadata": {
        "id": "SzN5AMgFGQZW"
      }
    },
    {
      "cell_type": "code",
      "source": [
        "# Create a store filter to find the Tiers of Outlet_Location_Types present in the data.\n",
        "store_filter2 = df['Outlet_Type'] == 'Supermarket Type1'\n",
        "df[store_filter2].value_counts('Outlet_Location_Type')"
      ],
      "metadata": {
        "id": "aYszgQmMITTS",
        "outputId": "41df20b7-51fc-4172-be2f-6197b5163983",
        "colab": {
          "base_uri": "https://localhost:8080/"
        }
      },
      "execution_count": null,
      "outputs": [
        {
          "output_type": "execute_result",
          "data": {
            "text/plain": [
              "Outlet_Location_Type\n",
              "Tier 2    2785\n",
              "Tier 1    1860\n",
              "Tier 3     932\n",
              "dtype: int64"
            ]
          },
          "metadata": {},
          "execution_count": 13
        }
      ]
    },
    {
      "cell_type": "markdown",
      "source": [
        "We can see that there are 930 Supermarket Type1's in a Tier 2 `Outlet_Location_Type` which gives us a good starting point to impute data to the missing values.\n",
        "\n",
        "2785(total) - 1855(missing) = 930(non-null values)"
      ],
      "metadata": {
        "id": "0BW4tXTxIij-"
      }
    },
    {
      "cell_type": "code",
      "source": [
        "# Create a tier filter to find Tier 2\n",
        "tier_filter = df['Outlet_Location_Type'] == 'Tier 2'"
      ],
      "metadata": {
        "id": "QxGSW4vYJj8Z"
      },
      "execution_count": null,
      "outputs": []
    },
    {
      "cell_type": "code",
      "source": [
        "# Apply the store filter2 and tier filter to the dataset and normalize the value counts.\n",
        "df[tier_filter & store_filter2].value_counts('Outlet_Size', normalize = True)"
      ],
      "metadata": {
        "id": "UYSH4_zK4Sbq",
        "outputId": "81c0b9d3-1ad4-428b-e368-5021cd39360e",
        "colab": {
          "base_uri": "https://localhost:8080/"
        }
      },
      "execution_count": null,
      "outputs": [
        {
          "output_type": "execute_result",
          "data": {
            "text/plain": [
              "Outlet_Size\n",
              "Small    1.0\n",
              "dtype: float64"
            ]
          },
          "metadata": {},
          "execution_count": 15
        }
      ]
    },
    {
      "cell_type": "markdown",
      "source": [
        "We can see the 100% of the Supermarket Type1's in Tier 2 are 'Small' `Outlet_Size`'s, so it is likely that our missing values are 'Small' and can be imputed as such."
      ],
      "metadata": {
        "id": "ploZVR4CJy8c"
      }
    },
    {
      "cell_type": "code",
      "source": [
        "# Run this first to verify the count of missing values \n",
        "df[store_filter2]['Outlet_Size'].isna().sum()"
      ],
      "metadata": {
        "id": "EGz6Gsd9KIn5",
        "outputId": "6a491f1e-a154-4464-eb5c-fd9dd623afe2",
        "colab": {
          "base_uri": "https://localhost:8080/"
        }
      },
      "execution_count": null,
      "outputs": [
        {
          "output_type": "execute_result",
          "data": {
            "text/plain": [
              "1855"
            ]
          },
          "metadata": {},
          "execution_count": 16
        }
      ]
    },
    {
      "cell_type": "code",
      "source": [
        "# Update null values with 'Small' with the Outlet_Type 'Supermarket Type1'\n",
        "df.loc[store_filter2 & (df['Outlet_Size'].isnull()), 'Outlet_Size'] = 'Small'\n",
        "df[store_filter]['Outlet_Size'].isna().sum()"
      ],
      "metadata": {
        "id": "HJap_h3HKejS",
        "outputId": "7ecde8ba-344b-4805-9796-1a4b1b6c3d98",
        "colab": {
          "base_uri": "https://localhost:8080/"
        }
      },
      "execution_count": null,
      "outputs": [
        {
          "output_type": "execute_result",
          "data": {
            "text/plain": [
              "0"
            ]
          },
          "metadata": {},
          "execution_count": 17
        }
      ]
    },
    {
      "cell_type": "markdown",
      "source": [
        "### 6. Confirm that there are no missing values after addressing them."
      ],
      "metadata": {
        "id": "WQeJPcNMoQ7P"
      }
    },
    {
      "cell_type": "markdown",
      "source": [
        "Using `df.isna().sum()` we will count up the total number of rows missing information from each column."
      ],
      "metadata": {
        "id": "vFPuJfL9V-6d"
      }
    },
    {
      "cell_type": "code",
      "source": [
        "# Identify missing values in each column\n",
        "df.isna().sum()"
      ],
      "metadata": {
        "id": "aFwaVTv-V-T4",
        "outputId": "408f345d-65cd-45bc-853f-e1269a1bb755",
        "colab": {
          "base_uri": "https://localhost:8080/"
        }
      },
      "execution_count": null,
      "outputs": [
        {
          "output_type": "execute_result",
          "data": {
            "text/plain": [
              "Item_Identifier              0\n",
              "Item_Weight                  0\n",
              "Item_Fat_Content             0\n",
              "Item_Visibility              0\n",
              "Item_Type                    0\n",
              "Item_MRP                     0\n",
              "Outlet_Identifier            0\n",
              "Outlet_Establishment_Year    0\n",
              "Outlet_Size                  0\n",
              "Outlet_Location_Type         0\n",
              "Outlet_Type                  0\n",
              "Item_Outlet_Sales            0\n",
              "dtype: int64"
            ]
          },
          "metadata": {},
          "execution_count": 20
        }
      ]
    },
    {
      "cell_type": "markdown",
      "source": [
        "### 7. Find and fix any inconsistent categories of data."
      ],
      "metadata": {
        "id": "PsGsRoH_oU_2"
      }
    },
    {
      "cell_type": "markdown",
      "source": [
        "We will start off by using `df.info()` to make sure the datatypes of each column make sense."
      ],
      "metadata": {
        "id": "N0yqeMlxd9Mi"
      }
    },
    {
      "cell_type": "code",
      "source": [
        "df.info()"
      ],
      "metadata": {
        "id": "JSvb8NJHb1A3",
        "outputId": "4b679bb4-aed6-4202-b5fe-fc0fac552672",
        "colab": {
          "base_uri": "https://localhost:8080/"
        }
      },
      "execution_count": null,
      "outputs": [
        {
          "output_type": "stream",
          "name": "stdout",
          "text": [
            "<class 'pandas.core.frame.DataFrame'>\n",
            "RangeIndex: 8523 entries, 0 to 8522\n",
            "Data columns (total 12 columns):\n",
            " #   Column                     Non-Null Count  Dtype  \n",
            "---  ------                     --------------  -----  \n",
            " 0   Item_Identifier            8523 non-null   object \n",
            " 1   Item_Weight                8523 non-null   float64\n",
            " 2   Item_Fat_Content           8523 non-null   object \n",
            " 3   Item_Visibility            8523 non-null   float64\n",
            " 4   Item_Type                  8523 non-null   object \n",
            " 5   Item_MRP                   8523 non-null   float64\n",
            " 6   Outlet_Identifier          8523 non-null   object \n",
            " 7   Outlet_Establishment_Year  8523 non-null   int64  \n",
            " 8   Outlet_Size                8523 non-null   object \n",
            " 9   Outlet_Location_Type       8523 non-null   object \n",
            " 10  Outlet_Type                8523 non-null   object \n",
            " 11  Item_Outlet_Sales          8523 non-null   float64\n",
            "dtypes: float64(4), int64(1), object(7)\n",
            "memory usage: 799.2+ KB\n"
          ]
        }
      ]
    },
    {
      "cell_type": "markdown",
      "source": [
        "Nothing sticks out as being out of the ordinary from our `df.info()`."
      ],
      "metadata": {
        "id": "pfy43NbbeD2V"
      }
    },
    {
      "cell_type": "markdown",
      "source": [
        "We can use `df[column].unique()` to look at the unique values present in each column. Suspect columns we should perform this on include: Item_Type, Item_Fat_Content, Outlet_Establishment_Year, Outlet_Size, Outlet_Location_Type, and Outlet_Type.\n",
        "<br>\n",
        "<br>\n",
        "We can rule out a lot of this list given that we have already looked closely at the values in previous sections, which would leave us with **'Item_Fat_Content'** and **'Outlet_Establishment_Year'**."
      ],
      "metadata": {
        "id": "Z88E4bKdeJRP"
      }
    },
    {
      "cell_type": "code",
      "source": [
        "# Find the unique values contained within the Item_Fat_Content column.\n",
        "df['Item_Fat_Content'].unique()"
      ],
      "metadata": {
        "id": "5ODscIPqdDlD",
        "outputId": "ade773f5-84b1-4126-d6c8-f45bc1547101",
        "colab": {
          "base_uri": "https://localhost:8080/"
        }
      },
      "execution_count": null,
      "outputs": [
        {
          "output_type": "execute_result",
          "data": {
            "text/plain": [
              "array(['Low Fat', 'Regular', 'low fat', 'LF', 'reg'], dtype=object)"
            ]
          },
          "metadata": {},
          "execution_count": 22
        }
      ]
    },
    {
      "cell_type": "code",
      "source": [
        "# Find the unique values contained within the Outlet_Establishment_Year column.\n",
        "df['Outlet_Establishment_Year'].unique()"
      ],
      "metadata": {
        "id": "e5rRFksTe6UZ",
        "outputId": "eb57c84b-fa1f-46b6-dad1-bb16c7397c1c",
        "colab": {
          "base_uri": "https://localhost:8080/"
        }
      },
      "execution_count": null,
      "outputs": [
        {
          "output_type": "execute_result",
          "data": {
            "text/plain": [
              "array([1999, 2009, 1998, 1987, 1985, 2002, 2007, 1997, 2004])"
            ]
          },
          "metadata": {},
          "execution_count": 23
        }
      ]
    },
    {
      "cell_type": "markdown",
      "source": [
        "We see the `Outlet_Establishment_Year` has consistent data, however `Item_Fat_Content` has multiple strings that represent the same value. We can clean this up using `df.replace()`."
      ],
      "metadata": {
        "id": "dJaM9gVzfFKd"
      }
    },
    {
      "cell_type": "code",
      "source": [
        "# Use df['Item_Fat_Content'].replace() to replace the inconsistent data\n",
        "df['Item_Fat_Content'] = df['Item_Fat_Content'].replace(['low fat', 'LF'], 'Low Fat').replace('reg','Regular')\n",
        "df['Item_Fat_Content'].unique()"
      ],
      "metadata": {
        "id": "gVvO30TGfa27",
        "outputId": "a68516b9-03fd-4a81-f313-1aefb59e89d2",
        "colab": {
          "base_uri": "https://localhost:8080/"
        }
      },
      "execution_count": null,
      "outputs": [
        {
          "output_type": "execute_result",
          "data": {
            "text/plain": [
              "array(['Low Fat', 'Regular'], dtype=object)"
            ]
          },
          "metadata": {},
          "execution_count": 24
        }
      ]
    },
    {
      "cell_type": "markdown",
      "source": [
        "### 8. For any numerical columns, obtain the summary statistics of each."
      ],
      "metadata": {
        "id": "NFizg3LKoaa1"
      }
    },
    {
      "cell_type": "markdown",
      "source": [
        "Using `df.describe()` we will summarize the statistics for each numerical column."
      ],
      "metadata": {
        "id": "619O7kXxbs5S"
      }
    },
    {
      "cell_type": "code",
      "source": [
        "# Summarizes statistics for numerical columns\n",
        "df.describe().round(2)"
      ],
      "metadata": {
        "id": "_agIGdyjbUto",
        "outputId": "1bb9de18-2957-4c58-90fd-b1d33f616a4f",
        "colab": {
          "base_uri": "https://localhost:8080/",
          "height": 300
        }
      },
      "execution_count": null,
      "outputs": [
        {
          "output_type": "execute_result",
          "data": {
            "text/plain": [
              "       Item_Weight  Item_Visibility  Item_MRP  Outlet_Establishment_Year  \\\n",
              "count      8523.00          8523.00   8523.00                    8523.00   \n",
              "mean         12.86             0.07    140.99                    1997.83   \n",
              "std           4.23             0.05     62.28                       8.37   \n",
              "min           4.56             0.00     31.29                    1985.00   \n",
              "25%           9.31             0.03     93.83                    1987.00   \n",
              "50%          12.87             0.05    143.01                    1999.00   \n",
              "75%          16.00             0.09    185.64                    2004.00   \n",
              "max          21.35             0.33    266.89                    2009.00   \n",
              "\n",
              "       Item_Outlet_Sales  \n",
              "count            8523.00  \n",
              "mean             2181.29  \n",
              "std              1706.50  \n",
              "min                33.29  \n",
              "25%               834.25  \n",
              "50%              1794.33  \n",
              "75%              3101.30  \n",
              "max             13086.96  "
            ],
            "text/html": [
              "\n",
              "  <div id=\"df-59ac8de4-8ac8-46e4-9c10-f51065680467\">\n",
              "    <div class=\"colab-df-container\">\n",
              "      <div>\n",
              "<style scoped>\n",
              "    .dataframe tbody tr th:only-of-type {\n",
              "        vertical-align: middle;\n",
              "    }\n",
              "\n",
              "    .dataframe tbody tr th {\n",
              "        vertical-align: top;\n",
              "    }\n",
              "\n",
              "    .dataframe thead th {\n",
              "        text-align: right;\n",
              "    }\n",
              "</style>\n",
              "<table border=\"1\" class=\"dataframe\">\n",
              "  <thead>\n",
              "    <tr style=\"text-align: right;\">\n",
              "      <th></th>\n",
              "      <th>Item_Weight</th>\n",
              "      <th>Item_Visibility</th>\n",
              "      <th>Item_MRP</th>\n",
              "      <th>Outlet_Establishment_Year</th>\n",
              "      <th>Item_Outlet_Sales</th>\n",
              "    </tr>\n",
              "  </thead>\n",
              "  <tbody>\n",
              "    <tr>\n",
              "      <th>count</th>\n",
              "      <td>8523.00</td>\n",
              "      <td>8523.00</td>\n",
              "      <td>8523.00</td>\n",
              "      <td>8523.00</td>\n",
              "      <td>8523.00</td>\n",
              "    </tr>\n",
              "    <tr>\n",
              "      <th>mean</th>\n",
              "      <td>12.86</td>\n",
              "      <td>0.07</td>\n",
              "      <td>140.99</td>\n",
              "      <td>1997.83</td>\n",
              "      <td>2181.29</td>\n",
              "    </tr>\n",
              "    <tr>\n",
              "      <th>std</th>\n",
              "      <td>4.23</td>\n",
              "      <td>0.05</td>\n",
              "      <td>62.28</td>\n",
              "      <td>8.37</td>\n",
              "      <td>1706.50</td>\n",
              "    </tr>\n",
              "    <tr>\n",
              "      <th>min</th>\n",
              "      <td>4.56</td>\n",
              "      <td>0.00</td>\n",
              "      <td>31.29</td>\n",
              "      <td>1985.00</td>\n",
              "      <td>33.29</td>\n",
              "    </tr>\n",
              "    <tr>\n",
              "      <th>25%</th>\n",
              "      <td>9.31</td>\n",
              "      <td>0.03</td>\n",
              "      <td>93.83</td>\n",
              "      <td>1987.00</td>\n",
              "      <td>834.25</td>\n",
              "    </tr>\n",
              "    <tr>\n",
              "      <th>50%</th>\n",
              "      <td>12.87</td>\n",
              "      <td>0.05</td>\n",
              "      <td>143.01</td>\n",
              "      <td>1999.00</td>\n",
              "      <td>1794.33</td>\n",
              "    </tr>\n",
              "    <tr>\n",
              "      <th>75%</th>\n",
              "      <td>16.00</td>\n",
              "      <td>0.09</td>\n",
              "      <td>185.64</td>\n",
              "      <td>2004.00</td>\n",
              "      <td>3101.30</td>\n",
              "    </tr>\n",
              "    <tr>\n",
              "      <th>max</th>\n",
              "      <td>21.35</td>\n",
              "      <td>0.33</td>\n",
              "      <td>266.89</td>\n",
              "      <td>2009.00</td>\n",
              "      <td>13086.96</td>\n",
              "    </tr>\n",
              "  </tbody>\n",
              "</table>\n",
              "</div>\n",
              "      <button class=\"colab-df-convert\" onclick=\"convertToInteractive('df-59ac8de4-8ac8-46e4-9c10-f51065680467')\"\n",
              "              title=\"Convert this dataframe to an interactive table.\"\n",
              "              style=\"display:none;\">\n",
              "        \n",
              "  <svg xmlns=\"http://www.w3.org/2000/svg\" height=\"24px\"viewBox=\"0 0 24 24\"\n",
              "       width=\"24px\">\n",
              "    <path d=\"M0 0h24v24H0V0z\" fill=\"none\"/>\n",
              "    <path d=\"M18.56 5.44l.94 2.06.94-2.06 2.06-.94-2.06-.94-.94-2.06-.94 2.06-2.06.94zm-11 1L8.5 8.5l.94-2.06 2.06-.94-2.06-.94L8.5 2.5l-.94 2.06-2.06.94zm10 10l.94 2.06.94-2.06 2.06-.94-2.06-.94-.94-2.06-.94 2.06-2.06.94z\"/><path d=\"M17.41 7.96l-1.37-1.37c-.4-.4-.92-.59-1.43-.59-.52 0-1.04.2-1.43.59L10.3 9.45l-7.72 7.72c-.78.78-.78 2.05 0 2.83L4 21.41c.39.39.9.59 1.41.59.51 0 1.02-.2 1.41-.59l7.78-7.78 2.81-2.81c.8-.78.8-2.07 0-2.86zM5.41 20L4 18.59l7.72-7.72 1.47 1.35L5.41 20z\"/>\n",
              "  </svg>\n",
              "      </button>\n",
              "      \n",
              "  <style>\n",
              "    .colab-df-container {\n",
              "      display:flex;\n",
              "      flex-wrap:wrap;\n",
              "      gap: 12px;\n",
              "    }\n",
              "\n",
              "    .colab-df-convert {\n",
              "      background-color: #E8F0FE;\n",
              "      border: none;\n",
              "      border-radius: 50%;\n",
              "      cursor: pointer;\n",
              "      display: none;\n",
              "      fill: #1967D2;\n",
              "      height: 32px;\n",
              "      padding: 0 0 0 0;\n",
              "      width: 32px;\n",
              "    }\n",
              "\n",
              "    .colab-df-convert:hover {\n",
              "      background-color: #E2EBFA;\n",
              "      box-shadow: 0px 1px 2px rgba(60, 64, 67, 0.3), 0px 1px 3px 1px rgba(60, 64, 67, 0.15);\n",
              "      fill: #174EA6;\n",
              "    }\n",
              "\n",
              "    [theme=dark] .colab-df-convert {\n",
              "      background-color: #3B4455;\n",
              "      fill: #D2E3FC;\n",
              "    }\n",
              "\n",
              "    [theme=dark] .colab-df-convert:hover {\n",
              "      background-color: #434B5C;\n",
              "      box-shadow: 0px 1px 3px 1px rgba(0, 0, 0, 0.15);\n",
              "      filter: drop-shadow(0px 1px 2px rgba(0, 0, 0, 0.3));\n",
              "      fill: #FFFFFF;\n",
              "    }\n",
              "  </style>\n",
              "\n",
              "      <script>\n",
              "        const buttonEl =\n",
              "          document.querySelector('#df-59ac8de4-8ac8-46e4-9c10-f51065680467 button.colab-df-convert');\n",
              "        buttonEl.style.display =\n",
              "          google.colab.kernel.accessAllowed ? 'block' : 'none';\n",
              "\n",
              "        async function convertToInteractive(key) {\n",
              "          const element = document.querySelector('#df-59ac8de4-8ac8-46e4-9c10-f51065680467');\n",
              "          const dataTable =\n",
              "            await google.colab.kernel.invokeFunction('convertToInteractive',\n",
              "                                                     [key], {});\n",
              "          if (!dataTable) return;\n",
              "\n",
              "          const docLinkHtml = 'Like what you see? Visit the ' +\n",
              "            '<a target=\"_blank\" href=https://colab.research.google.com/notebooks/data_table.ipynb>data table notebook</a>'\n",
              "            + ' to learn more about interactive tables.';\n",
              "          element.innerHTML = '';\n",
              "          dataTable['output_type'] = 'display_data';\n",
              "          await google.colab.output.renderOutput(dataTable, element);\n",
              "          const docLink = document.createElement('div');\n",
              "          docLink.innerHTML = docLinkHtml;\n",
              "          element.appendChild(docLink);\n",
              "        }\n",
              "      </script>\n",
              "    </div>\n",
              "  </div>\n",
              "  "
            ]
          },
          "metadata": {},
          "execution_count": 26
        }
      ]
    },
    {
      "cell_type": "markdown",
      "source": [
        "### Citations from Part 2\n",
        "1. Referenced [Data Science Made Simple](https://www.datasciencemadesimple.com/check-count-missing-values-pandas-python-2/) to assist with question 5.\n",
        "2. Referenced [Stack Overflow](https://stackoverflow.com/questions/53947196/groupby-class-and-count-missing-values-in-features) to assist with question 5.\n",
        "3. Referenced [Pandas API](https://pandas.pydata.org/docs/reference/api/pandas.DataFrame.rsub.html) to assist with question 5.\n",
        "4. Referenced [Pandas API](https://pandas.pydata.org/docs/reference/api/pandas.DataFrame.size.html) to assist with question 5.\n",
        "\n",
        "\n"
      ],
      "metadata": {
        "id": "iV7r-TxT2eP9"
      }
    }
  ]
}